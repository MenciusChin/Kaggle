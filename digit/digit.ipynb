{
 "cells": [
  {
   "cell_type": "code",
   "execution_count": 1,
   "metadata": {},
   "outputs": [],
   "source": [
    "# Imports\n",
    "import numpy as np\n",
    "import pandas as pd\n",
    "\n",
    "from sklearn.model_selection import train_test_split\n",
    "\n",
    "import torch\n",
    "from torch.utils.data import Dataset\n",
    "import matplotlib.pyplot as plt\n",
    "from torch import nn"
   ]
  },
  {
   "cell_type": "code",
   "execution_count": 2,
   "metadata": {},
   "outputs": [],
   "source": [
    "data = pd.read_csv(\"data/train.csv\")"
   ]
  },
  {
   "cell_type": "code",
   "execution_count": null,
   "metadata": {},
   "outputs": [],
   "source": []
  },
  {
   "cell_type": "code",
   "execution_count": 3,
   "metadata": {},
   "outputs": [],
   "source": [
    "# Read data\n",
    "def read_img(file_name):\n",
    "    data = pd.read_csv(\"data/\" + file_name)\n",
    "    labels = data[\"label\"].to_numpy()\n",
    "    imgs = (data.iloc[:, 1:].to_numpy()).reshape((len(labels),28,28)).astype(\"float32\")\n",
    "    return imgs, labels"
   ]
  },
  {
   "cell_type": "code",
   "execution_count": 4,
   "metadata": {},
   "outputs": [],
   "source": [
    "# Split\n",
    "imgs, labels = read_img(\"train.csv\")\n",
    "imgtrain, imgtest, labeltrain, labeltest = train_test_split(imgs, labels, test_size=.3)"
   ]
  },
  {
   "cell_type": "code",
   "execution_count": 5,
   "metadata": {},
   "outputs": [
    {
     "data": {
      "text/plain": [
       "(29400, 28, 28)"
      ]
     },
     "execution_count": 5,
     "metadata": {},
     "output_type": "execute_result"
    }
   ],
   "source": [
    "imgtrain.shape"
   ]
  },
  {
   "cell_type": "code",
   "execution_count": 6,
   "metadata": {},
   "outputs": [],
   "source": [
    "class DigitDataset(Dataset):\n",
    "    def __init__(self, images, labels):\n",
    "        self.images = torch.tensor(images)/255.0\n",
    "        self.labels = labels\n",
    "\n",
    "    def __len__(self):\n",
    "        return len(self.labels)\n",
    "\n",
    "    def __getitem__(self, idx):\n",
    "        return self.images[idx], self.labels[idx]"
   ]
  },
  {
   "cell_type": "code",
   "execution_count": 7,
   "metadata": {},
   "outputs": [],
   "source": [
    "train_ds = DigitDataset(imgtrain, labeltrain)\n",
    "test_ds = DigitDataset(imgtest, labeltest)"
   ]
  },
  {
   "cell_type": "code",
   "execution_count": 8,
   "metadata": {},
   "outputs": [],
   "source": [
    "from torch.utils.data import DataLoader\n",
    "\n",
    "train_dl = DataLoader(train_ds, batch_size=16, shuffle=True)\n",
    "test_dl = DataLoader(test_ds, batch_size=16, shuffle=True)"
   ]
  },
  {
   "cell_type": "code",
   "execution_count": 9,
   "metadata": {},
   "outputs": [
    {
     "name": "stdout",
     "output_type": "stream",
     "text": [
      "Feature batch shape: torch.Size([16, 28, 28])\n",
      "Labels batch shape: torch.Size([16])\n"
     ]
    },
    {
     "data": {
      "image/png": "[encoded data removed]",
      "text/plain": [
       "<Figure size 640x480 with 1 Axes>"
      ]
     },
     "metadata": {},
     "output_type": "display_data"
    },
    {
     "name": "stdout",
     "output_type": "stream",
     "text": [
      "Label: 4\n"
     ]
    }
   ],
   "source": [
    "# Display image and label.\n",
    "train_features, train_labels = next(iter(train_dl))\n",
    "print(f\"Feature batch shape: {train_features.size()}\")\n",
    "print(f\"Labels batch shape: {train_labels.size()}\")\n",
    "img = train_features[0].squeeze()\n",
    "label = train_labels[0]\n",
    "plt.imshow(img, cmap=\"gray\")\n",
    "plt.show()\n",
    "print(f\"Label: {label}\")"
   ]
  },
  {
   "cell_type": "code",
   "execution_count": 10,
   "metadata": {},
   "outputs": [
    {
     "name": "stdout",
     "output_type": "stream",
     "text": [
      "Using cpu device\n"
     ]
    }
   ],
   "source": [
    "device = (\n",
    "    \"cuda\"\n",
    "    if torch.cuda.is_available()\n",
    "    else \"mps\"\n",
    "    if torch.backends.mps.is_available()\n",
    "    else \"cpu\"\n",
    ")\n",
    "print(f\"Using {device} device\")"
   ]
  },
  {
   "cell_type": "code",
   "execution_count": 26,
   "metadata": {},
   "outputs": [],
   "source": [
    "import torch.nn as nn\n",
    "import torch.nn.functional as F\n",
    "\n",
    "# PyTorch models inherit from torch.nn.Module\n",
    "class GarmentClassifier(nn.Module):\n",
    "    def __init__(self):\n",
    "        super(GarmentClassifier, self).__init__()\n",
    "        self.conv1 = nn.Conv2d(1, 6, 5)\n",
    "        self.pool = nn.MaxPool2d(2, 2)\n",
    "        self.conv2 = nn.Conv2d(6, 16, 5)\n",
    "        self.fc1 = nn.Linear(16 * 4 * 4, 120)\n",
    "        self.fc2 = nn.Linear(120, 84)\n",
    "        self.fc3 = nn.Linear(84, 10)\n",
    "\n",
    "    def forward(self, x):\n",
    "        x = self.pool(F.relu(self.conv1(x)))\n",
    "        x = self.pool(F.relu(self.conv2(x)))\n",
    "        x = x.view(-1, 16 * 4 * 4)\n",
    "        x = F.relu(self.fc1(x))\n",
    "        x = F.relu(self.fc2(x))\n",
    "        x = self.fc3(x)\n",
    "        return x\n",
    "\n",
    "\n",
    "model = GarmentClassifier()"
   ]
  },
  {
   "cell_type": "code",
   "execution_count": 16,
   "metadata": {},
   "outputs": [
    {
     "name": "stdout",
     "output_type": "stream",
     "text": [
      "tensor([[0.8375, 0.3496, 0.8416, 0.8383, 0.8151, 0.6611, 0.2588, 0.4906, 0.0841,\n",
      "         0.4280],\n",
      "        [0.5365, 0.1846, 0.6242, 0.5890, 0.7302, 0.7894, 0.7416, 0.6153, 0.6752,\n",
      "         0.2539],\n",
      "        [0.8049, 0.0558, 0.1825, 0.7905, 0.5414, 0.3291, 0.7931, 0.6145, 0.5515,\n",
      "         0.4741],\n",
      "        [0.5601, 0.1639, 0.3292, 0.3713, 0.9581, 0.1627, 0.6591, 0.2093, 0.1553,\n",
      "         0.9013]])\n",
      "tensor([1, 5, 3, 7])\n",
      "Total loss for this batch: 2.3227453231811523\n"
     ]
    }
   ],
   "source": [
    "loss_fn = torch.nn.CrossEntropyLoss()\n",
    "\n",
    "# NB: Loss functions expect data in batches, so we're creating batches of 4\n",
    "# Represents the model's confidence in each of the 10 classes for a given input\n",
    "dummy_outputs = torch.rand(4, 10)\n",
    "# Represents the correct class among the 10 being tested\n",
    "dummy_labels = torch.tensor([1, 5, 3, 7])\n",
    "\n",
    "print(dummy_outputs)\n",
    "print(dummy_labels)\n",
    "\n",
    "loss = loss_fn(dummy_outputs, dummy_labels)\n",
    "print('Total loss for this batch: {}'.format(loss.item()))"
   ]
  },
  {
   "cell_type": "code",
   "execution_count": 29,
   "metadata": {},
   "outputs": [],
   "source": [
    "# Optimizers specified in the torch.optim package\n",
    "optimizer = torch.optim.SGD(model.parameters(), lr=0.01, momentum=0.9)"
   ]
  },
  {
   "cell_type": "code",
   "execution_count": 23,
   "metadata": {},
   "outputs": [],
   "source": [
    "def train_one_epoch(epoch_index, tb_writer):\n",
    "    running_loss = 0.\n",
    "    last_loss = 0.\n",
    "\n",
    "    # Here, we use enumerate(training_loader) instead of\n",
    "    # iter(training_loader) so that we can track the batch\n",
    "    # index and do some intra-epoch reporting\n",
    "    for i, data in enumerate(train_dl):\n",
    "        # Every data instance is an input + label pair\n",
    "        inputs, labels = data\n",
    "\n",
    "        # Zero your gradients for every batch!\n",
    "        optimizer.zero_grad()\n",
    "\n",
    "        # Make predictions for this batch\n",
    "        inputs = inputs.unsqueeze(1)\n",
    "        outputs = model(inputs)\n",
    "\n",
    "        # Compute the loss and its gradients\n",
    "        loss = loss_fn(outputs, labels)\n",
    "        loss.backward()\n",
    "\n",
    "        # Adjust learning weights\n",
    "        optimizer.step()\n",
    "\n",
    "        # Gather data and report\n",
    "        running_loss += loss.item()\n",
    "        if i % 1000 == 999:\n",
    "            last_loss = running_loss / 1000 # loss per batch\n",
    "            print('  batch {} loss: {}'.format(i + 1, last_loss))\n",
    "            tb_x = epoch_index * len(train_dl) + i + 1\n",
    "            tb_writer.add_scalar('Loss/train', last_loss, tb_x)\n",
    "            running_loss = 0.\n",
    "\n",
    "    return last_loss"
   ]
  },
  {
   "cell_type": "code",
   "execution_count": 32,
   "metadata": {},
   "outputs": [
    {
     "name": "stdout",
     "output_type": "stream",
     "text": [
      "EPOCH 1:\n",
      "  batch 1000 loss: 0.045806445825890475\n",
      "LOSS train 0.045806445825890475 valid 0.08106370270252228\n",
      "EPOCH 2:\n",
      "  batch 1000 loss: 0.03591700020433927\n",
      "LOSS train 0.03591700020433927 valid 0.06827408075332642\n",
      "EPOCH 3:\n",
      "  batch 1000 loss: 0.029360756076033112\n",
      "LOSS train 0.029360756076033112 valid 0.06507249176502228\n",
      "EPOCH 4:\n",
      "  batch 1000 loss: 0.02440488726655758\n",
      "LOSS train 0.02440488726655758 valid 0.05394243448972702\n",
      "EPOCH 5:\n",
      "  batch 1000 loss: 0.025887012114303616\n",
      "LOSS train 0.025887012114303616 valid 0.04978689178824425\n"
     ]
    }
   ],
   "source": [
    "from torch.utils.tensorboard import SummaryWriter\n",
    "from datetime import datetime\n",
    "\n",
    "# Initializing in a separate cell so we can easily add more epochs to the same run\n",
    "timestamp = datetime.now().strftime('%Y%m%d_%H%M%S')\n",
    "writer = SummaryWriter('runs/fashion_trainer_{}'.format(timestamp))\n",
    "epoch_number = 0\n",
    "\n",
    "EPOCHS = 5\n",
    "\n",
    "best_vloss = 1_000_000.\n",
    "\n",
    "for epoch in range(EPOCHS):\n",
    "    print('EPOCH {}:'.format(epoch_number + 1))\n",
    "\n",
    "    # Make sure gradient tracking is on, and do a pass over the data\n",
    "    model.train(True)\n",
    "    avg_loss = train_one_epoch(epoch_number, writer)\n",
    "\n",
    "\n",
    "    running_vloss = 0.0\n",
    "    # Set the model to evaluation mode, disabling dropout and using population\n",
    "    # statistics for batch normalization.\n",
    "    model.eval()\n",
    "\n",
    "    # Disable gradient computation and reduce memory consumption.\n",
    "    with torch.no_grad():\n",
    "        for i, vdata in enumerate(test_dl):\n",
    "            vinputs, vlabels = vdata\n",
    "            vinputs = vinputs.unsqueeze(1)\n",
    "            voutputs = model(vinputs)\n",
    "            vloss = loss_fn(voutputs, vlabels)\n",
    "            running_vloss += vloss\n",
    "\n",
    "    avg_vloss = running_vloss / (i + 1)\n",
    "    print('LOSS train {} valid {}'.format(avg_loss, avg_vloss))\n",
    "\n",
    "    # Log the running loss averaged per batch\n",
    "    # for both training and validation\n",
    "    writer.add_scalars('Training vs. Validation Loss',\n",
    "                    { 'Training' : avg_loss, 'Validation' : avg_vloss },\n",
    "                    epoch_number + 1)\n",
    "    writer.flush()\n",
    "\n",
    "    # Track best performance, and save the model's state\n",
    "    if avg_vloss < best_vloss:\n",
    "        best_vloss = avg_vloss\n",
    "\n",
    "    epoch_number += 1"
   ]
  },
  {
   "cell_type": "code",
   "execution_count": 51,
   "metadata": {},
   "outputs": [],
   "source": [
    "class DigitNetwork(nn.Module):\n",
    "    def __init__(self):\n",
    "        super().__init__()\n",
    "        self.conv2dstack = nn.Sequential(\n",
    "            nn.Conv2d(in_channels=1, out_channels=6, kernel_size=(5,5)),\n",
    "            nn.Tanh(),\n",
    "            nn.MaxPool2d((2,2)),\n",
    "            nn.Tanh(),\n",
    "            nn.Conv2d(6, 16, (5,5), groups=2),\n",
    "            nn.Tanh(),\n",
    "            nn.MaxPool2d((2,2)),\n",
    "            nn.Tanh()\n",
    "        )\n",
    "        self.flatten = nn.Flatten()\n",
    "        self.t1 = nn.Tanh()\n",
    "        self.linear = nn.LazyLinear(100)\n",
    "        self.t2 = nn.Tanh()\n",
    "        self.output = nn.Linear(100, 10)\n",
    "        self.softmax = nn.LogSoftmax(dim=1)\n",
    "\n",
    "\n",
    "    def forward(self, x):\n",
    "        x = self.conv2dstack(x)\n",
    "        x = self.flatten(x)\n",
    "        x = self.t1(x)\n",
    "        x = self.linear(x)\n",
    "        x = self.t2(x)\n",
    "        x = self.output(x)\n",
    "        logits = self.softmax(x)\n",
    "        return logits"
   ]
  },
  {
   "cell_type": "code",
   "execution_count": 52,
   "metadata": {},
   "outputs": [
    {
     "name": "stderr",
     "output_type": "stream",
     "text": [
      "c:\\Users\\MeetA\\anaconda3\\Lib\\site-packages\\torch\\nn\\modules\\lazy.py:180: UserWarning: Lazy modules are a new feature under heavy development so changes to the API or functionality can happen at any moment.\n",
      "  warnings.warn('Lazy modules are a new feature under heavy development '\n"
     ]
    }
   ],
   "source": [
    "dn = DigitNetwork()"
   ]
  },
  {
   "cell_type": "code",
   "execution_count": 53,
   "metadata": {},
   "outputs": [
    {
     "data": {
      "text/plain": [
       "torch.Size([16, 1, 28, 28])"
      ]
     },
     "execution_count": 53,
     "metadata": {},
     "output_type": "execute_result"
    }
   ],
   "source": [
    "train_features.unsqueeze(1).shape"
   ]
  },
  {
   "cell_type": "code",
   "execution_count": 68,
   "metadata": {},
   "outputs": [],
   "source": [
    "pred = dn(train_features.unsqueeze(1))"
   ]
  },
  {
   "cell_type": "code",
   "execution_count": 79,
   "metadata": {},
   "outputs": [
    {
     "data": {
      "text/plain": [
       "tensor([4, 8, 5, 0, 5, 0, 7, 4, 0, 6, 4, 5, 5, 3, 7, 4])"
      ]
     },
     "execution_count": 79,
     "metadata": {},
     "output_type": "execute_result"
    }
   ],
   "source": [
    "torch.argmax(pred, dim=1)"
   ]
  },
  {
   "cell_type": "code",
   "execution_count": 80,
   "metadata": {},
   "outputs": [
    {
     "data": {
      "text/plain": [
       "tensor([4, 8, 5, 0, 5, 0, 7, 4, 0, 6, 4, 5, 5, 3, 7, 4])"
      ]
     },
     "execution_count": 80,
     "metadata": {},
     "output_type": "execute_result"
    }
   ],
   "source": [
    "train_labels"
   ]
  },
  {
   "cell_type": "code",
   "execution_count": 78,
   "metadata": {},
   "outputs": [
    {
     "data": {
      "text/plain": [
       "torch.Size([16, 10])"
      ]
     },
     "execution_count": 78,
     "metadata": {},
     "output_type": "execute_result"
    }
   ],
   "source": [
    "pred.size()"
   ]
  },
  {
   "cell_type": "code",
   "execution_count": 43,
   "metadata": {},
   "outputs": [
    {
     "data": {
      "text/plain": [
       "tensor(-260.8852, grad_fn=<NllLossBackward0>)"
      ]
     },
     "execution_count": 43,
     "metadata": {},
     "output_type": "execute_result"
    }
   ],
   "source": [
    "nn.functional.nll_loss(pred, train_labels, reduction=\"sum\")"
   ]
  },
  {
   "cell_type": "code",
   "execution_count": 54,
   "metadata": {},
   "outputs": [],
   "source": [
    "batch_size_train = 64\n",
    "batch_size_test = 1000"
   ]
  },
  {
   "cell_type": "code",
   "execution_count": 55,
   "metadata": {},
   "outputs": [],
   "source": [
    "def test(model, loader):\n",
    "    \"\"\"Test a network model on the test data.\n",
    "    \n",
    "    model: a `nn.Module` object representing the neural network to test\n",
    "    loader: a `DataLoader` object containing the testing data, potentially in batches\n",
    "    \n",
    "    Returns a tuple (test_loss, accuracy), where test_loss is the average loss on the\n",
    "    test data, and accuracy is the accuracy rate (out of 100%) of the predictions.\n",
    "    \"\"\"\n",
    "    \n",
    "    # Put the network in evaluation mode\n",
    "    model.eval()\n",
    "    \n",
    "    test_loss = 0\n",
    "    correct = 0\n",
    "    \n",
    "    # don't track gradients during this calculation\n",
    "    with torch.no_grad():\n",
    "        for data, target in loader:\n",
    "            data = data.unsqueeze(1)\n",
    "            output = model(data)\n",
    "            \n",
    "            # calculate the loss on this batch\n",
    "            test_loss += nn.functional.nll_loss(output, target, reduction='sum').item()\n",
    "            pred = output.data.max(1, keepdim=True)[1]\n",
    "            correct += pred.eq(target.data.view_as(pred)).sum()\n",
    "\n",
    "    # get the overall loss across all batches\n",
    "    test_loss /= len(loader.dataset)\n",
    "    accuracy = 100.0 * correct / len(loader.dataset)\n",
    "    \n",
    "    return test_loss, accuracy"
   ]
  },
  {
   "cell_type": "code",
   "execution_count": 56,
   "metadata": {},
   "outputs": [],
   "source": [
    "def train(model, optimizer, train_loader, test_loader, n_epochs=3, log_interval=50, verbose=False):\n",
    "    \"\"\"Train a network model with a particular optimizer.\n",
    "    \n",
    "    model: a `nn.Module` object representing the neural network to train\n",
    "    optimizer: a PyTorch optimizer, such as SGD\n",
    "    train_loader: a `DataLoader` object containing the training data, potentially in batches\n",
    "    test_loader: the same, but for the testing data\n",
    "    n_epochs: number of epochs of training to run\n",
    "    log_interval: after how many batches should record our progress?\n",
    "    verbose: print the progress after each log_interval steps?\n",
    "    \n",
    "    Returns a tuple (train_losses, counter, test_losses). train_losses is a list of \n",
    "    losses after every log_interval training steps; train_counter is a list giving the number\n",
    "    of training observations seen by the training process by each of those steps; test_losses\n",
    "    gives the test-set loss before each epoch and after the final epoch; test_counter gives\n",
    "    the number of training observations seen at each epoch.\n",
    "    \"\"\"\n",
    "    \n",
    "    # Storage\n",
    "    train_losses = []\n",
    "    test_losses = []\n",
    "    train_counter = []\n",
    "    test_counter = []\n",
    "    \n",
    "    samples_seen = 0\n",
    "    \n",
    "    for epoch in range(n_epochs):\n",
    "        # test at the beginning of each epoch\n",
    "        test_loss, _ = test(model, test_loader)\n",
    "        test_losses.append(test_loss)\n",
    "        test_counter.append(samples_seen)\n",
    "        \n",
    "        model.train() # put the network in training mode\n",
    "\n",
    "        for batch_idx, (data, target) in enumerate(train_loader):\n",
    "            data = data.unsqueeze(1)\n",
    "            # Reset all gradients\n",
    "            optimizer.zero_grad()\n",
    "    \n",
    "            # Obtain the model's predictions with the data\n",
    "            predictions = model(data)\n",
    "    \n",
    "            # Get the loss, using the known Ys\n",
    "            loss = nn.functional.nll_loss(predictions, target)\n",
    "    \n",
    "            # Calculate the gradients with backpropagation\n",
    "            loss.backward()\n",
    "    \n",
    "            # Perform one gradient descent step\n",
    "            optimizer.step()\n",
    "\n",
    "            # Count how much data we've seen\n",
    "            samples_seen += batch_size_train\n",
    "            \n",
    "            # Every log_interval steps, print out the progress\n",
    "            if batch_idx % log_interval == 0:\n",
    "                if verbose:\n",
    "                    print('Train Epoch: {} [{}/{} ({:.0f}%)]\\tLoss: {:.6f}'.format(\n",
    "                        epoch + 1, batch_idx * len(data), len(train_loader.dataset),\n",
    "                        100.0 * batch_idx / len(train_loader), loss.item()))\n",
    "                \n",
    "                train_losses.append(loss.item())\n",
    "                train_counter.append(samples_seen)\n",
    "                \n",
    "\n",
    "    # test after the final epoch\n",
    "    test_loss, _ = test(model, test_loader)\n",
    "    test_losses.append(test_loss)\n",
    "    test_counter.append(samples_seen)\n",
    "                \n",
    "    return train_losses, train_counter, test_losses, test_counter"
   ]
  },
  {
   "cell_type": "code",
   "execution_count": 57,
   "metadata": {},
   "outputs": [],
   "source": [
    "optimizer2 = torch.optim.SGD(dn.parameters(), lr=0.01, momentum=0.5)"
   ]
  },
  {
   "cell_type": "code",
   "execution_count": 59,
   "metadata": {},
   "outputs": [],
   "source": [
    "train_losses2, train_counter2, test_losses2, test_counter2 = train(\n",
    "    dn, optimizer2, train_dl, test_dl, n_epochs=10)"
   ]
  },
  {
   "cell_type": "code",
   "execution_count": 62,
   "metadata": {},
   "outputs": [
    {
     "data": {
      "text/plain": [
       "0.047919649399414156"
      ]
     },
     "execution_count": 62,
     "metadata": {},
     "output_type": "execute_result"
    }
   ],
   "source": [
    "test_losses2[-1]"
   ]
  },
  {
   "cell_type": "code",
   "execution_count": 63,
   "metadata": {},
   "outputs": [
    {
     "data": {
      "image/png": "[encoded data removed]",
      "text/plain": [
       "<Figure size 640x480 with 1 Axes>"
      ]
     },
     "metadata": {},
     "output_type": "display_data"
    }
   ],
   "source": [
    "plt.plot(train_counter2, train_losses2, color=\"blue\")\n",
    "plt.scatter(test_counter2, test_losses2, color=\"red\")\n",
    "plt.legend([\"Training loss\", \"Test loss\"], loc=\"upper right\")\n",
    "plt.xlabel(\"Number of training samples seen\")\n",
    "plt.ylabel(\"Negative log likelihood loss\");"
   ]
  }
 ],
 "metadata": {
  "kernelspec": {
   "display_name": "base",
   "language": "python",
   "name": "python3"
  },
  "language_info": {
   "codemirror_mode": {
    "name": "ipython",
    "version": 3
   },
   "file_extension": ".py",
   "mimetype": "text/x-python",
   "name": "python",
   "nbconvert_exporter": "python",
   "pygments_lexer": "ipython3",
   "version": "3.11.5"
  },
  "orig_nbformat": 4
 },
 "nbformat": 4,
 "nbformat_minor": 2
}

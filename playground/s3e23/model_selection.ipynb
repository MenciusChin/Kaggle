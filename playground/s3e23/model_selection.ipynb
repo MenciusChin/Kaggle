{
 "cells": [
  {
   "cell_type": "markdown",
   "metadata": {},
   "source": [
    "# Binary Classification with a Software Defects Dataset\n",
    "Playground Series - Season 3, Episode 23\n",
    "https://www.kaggle.com/competitions/playground-series-s3e23/data"
   ]
  },
  {
   "cell_type": "code",
   "execution_count": 1,
   "metadata": {},
   "outputs": [],
   "source": [
    "# Libraries\n",
    "import numpy as np\n",
    "import pandas as pd\n",
    "\n",
    "from preprocessing import read_train, read_test, SMOTE_data, transform_X\n",
    "\n",
    "from sklearn.preprocessing import StandardScaler\n",
    "from sklearn.model_selection import train_test_split\n",
    "from sklearn.metrics import roc_auc_score, accuracy_score\n",
    "\n",
    "import torch\n",
    "import torch.nn as nn\n",
    "import torch.nn.functional as F\n",
    "from torch.utils.data import Dataset, DataLoader\n",
    "\n",
    "import matplotlib.pyplot as plt\n",
    "import seaborn as sns"
   ]
  },
  {
   "cell_type": "markdown",
   "metadata": {},
   "source": [
    "### Data"
   ]
  },
  {
   "cell_type": "code",
   "execution_count": 2,
   "metadata": {},
   "outputs": [],
   "source": [
    "X, y = read_train(original=True)\n",
    "X, y = SMOTE_data(X, y)"
   ]
  },
  {
   "cell_type": "code",
   "execution_count": 3,
   "metadata": {},
   "outputs": [
    {
     "data": {
      "text/plain": [
       "Counter({False: 65608, True: 43739})"
      ]
     },
     "execution_count": 3,
     "metadata": {},
     "output_type": "execute_result"
    }
   ],
   "source": [
    "from collections import Counter\n",
    "(counter := Counter(y))"
   ]
  },
  {
   "cell_type": "code",
   "execution_count": 3,
   "metadata": {},
   "outputs": [],
   "source": [
    "# As discover in the EDA, we will log transform all X for better distribution\n",
    "log_X = np.log(X + .001)"
   ]
  },
  {
   "cell_type": "code",
   "execution_count": 4,
   "metadata": {},
   "outputs": [],
   "source": [
    "# Transform data into Standard scale\n",
    "ss = StandardScaler()\n",
    "fit_X = ss.fit_transform(log_X)\n",
    "fit_Y = y.copy().to_numpy()"
   ]
  },
  {
   "cell_type": "code",
   "execution_count": 5,
   "metadata": {},
   "outputs": [],
   "source": [
    "# \n",
    "xtrain, xtest, ytrain, ytest = train_test_split(fit_X, y, test_size=.3)"
   ]
  },
  {
   "cell_type": "markdown",
   "metadata": {},
   "source": [
    "### Models"
   ]
  },
  {
   "cell_type": "code",
   "execution_count": 6,
   "metadata": {},
   "outputs": [],
   "source": [
    "# Imports\n",
    "from sklearn.linear_model import LogisticRegression\n",
    "from sklearn.neighbors import KNeighborsClassifier\n",
    "from sklearn.ensemble import RandomForestClassifier\n",
    "from sklearn import svm\n",
    "\n",
    "rs = 93"
   ]
  },
  {
   "cell_type": "code",
   "execution_count": 12,
   "metadata": {},
   "outputs": [
    {
     "name": "stdout",
     "output_type": "stream",
     "text": [
      "Accuracy: 0.738515470202713\n",
      "ROC/AUC Score: 0.7082073542645551\n"
     ]
    }
   ],
   "source": [
    "# SVM\n",
    "svc = svm.SVC().fit(xtrain, ytrain)\n",
    "svc_pred = svc.predict(xtest)\n",
    "print(\"Accuracy:\", accuracy_score(ytest, svc_pred))\n",
    "print(\"ROC/AUC Score:\", roc_auc_score(ytest, svc_pred))"
   ]
  },
  {
   "cell_type": "code",
   "execution_count": 7,
   "metadata": {},
   "outputs": [
    {
     "name": "stdout",
     "output_type": "stream",
     "text": [
      "Accuracy: 0.8072854747751868\n",
      "ROC/AUC Score: 0.7878559298251543\n"
     ]
    }
   ],
   "source": [
    "# RandomForest\n",
    "rf = RandomForestClassifier().fit(xtrain, ytrain)\n",
    "rf_pred = rf.predict(xtest)\n",
    "print(\"Accuracy:\", accuracy_score(ytest, rf_pred))\n",
    "print(\"ROC/AUC Score:\", roc_auc_score(ytest, rf_pred))"
   ]
  },
  {
   "cell_type": "code",
   "execution_count": 10,
   "metadata": {},
   "outputs": [
    {
     "name": "stdout",
     "output_type": "stream",
     "text": [
      "Accuracy: 0.7387898186252095\n",
      "ROC/AUC Score: 0.7213182226084673\n"
     ]
    }
   ],
   "source": [
    "# KNN\n",
    "knn = KNeighborsClassifier(n_neighbors=5).fit(xtrain, ytrain)\n",
    "knn_pred = knn.predict(xtest)\n",
    "print(\"Accuracy:\", accuracy_score(ytest, knn_pred))\n",
    "print(\"ROC/AUC Score:\", roc_auc_score(ytest, knn_pred))"
   ]
  },
  {
   "cell_type": "code",
   "execution_count": 9,
   "metadata": {},
   "outputs": [
    {
     "name": "stdout",
     "output_type": "stream",
     "text": [
      "Accuracy: 0.7347050754458162\n",
      "ROC/AUC Score: 0.7064375084555259\n"
     ]
    }
   ],
   "source": [
    "# Logistic Regression\n",
    "lr = LogisticRegression(random_state=rs, max_iter=1000).fit(xtrain, ytrain)\n",
    "lr_pred = lr.predict(xtest)\n",
    "print(\"Accuracy:\", accuracy_score(ytest, lr_pred))\n",
    "print(\"ROC/AUC Score:\", roc_auc_score(ytest, lr_pred))"
   ]
  },
  {
   "cell_type": "markdown",
   "metadata": {},
   "source": [
    "### Prediction"
   ]
  },
  {
   "cell_type": "code",
   "execution_count": 8,
   "metadata": {},
   "outputs": [],
   "source": [
    "pred_X, id = read_test()"
   ]
  },
  {
   "cell_type": "code",
   "execution_count": 10,
   "metadata": {},
   "outputs": [],
   "source": [
    "pred_X = transform_X(pred_X)"
   ]
  },
  {
   "cell_type": "code",
   "execution_count": 12,
   "metadata": {},
   "outputs": [],
   "source": [
    "pred = rf.predict_proba(pred_X)"
   ]
  },
  {
   "cell_type": "code",
   "execution_count": 13,
   "metadata": {},
   "outputs": [],
   "source": [
    "output = pd.DataFrame({\"id\": id, \"defects\": pred[:, 1]})"
   ]
  },
  {
   "cell_type": "code",
   "execution_count": 14,
   "metadata": {},
   "outputs": [],
   "source": [
    "#output.to_csv(\"prediction.csv\", index=False)"
   ]
  },
  {
   "cell_type": "markdown",
   "metadata": {},
   "source": [
    "### Voting Classifier\n",
    "https://www.kaggle.com/code/iqbalsyahakbar/ps3e23-binary-classification-for-beginners#Loading-Libraries-and-Datasets"
   ]
  },
  {
   "cell_type": "code",
   "execution_count": 15,
   "metadata": {},
   "outputs": [],
   "source": [
    "from category_encoders import OneHotEncoder, GLMMEncoder, TargetEncoder, CatBoostEncoder\n",
    "from sklearn import set_config\n",
    "from sklearn.inspection import permutation_importance\n",
    "from sklearn.model_selection import StratifiedKFold, RepeatedStratifiedKFold\n",
    "from sklearn.feature_selection import SequentialFeatureSelector\n",
    "from sklearn.ensemble import RandomForestRegressor, IsolationForest\n",
    "from sklearn.metrics import roc_auc_score, roc_curve, make_scorer, f1_score\n",
    "from sklearn.experimental import enable_iterative_imputer\n",
    "from sklearn.impute import SimpleImputer, IterativeImputer, KNNImputer\n",
    "from sklearn.metrics.pairwise import euclidean_distances\n",
    "from sklearn.pipeline import Pipeline, make_pipeline\n",
    "from sklearn.base import BaseEstimator, TransformerMixin, clone\n",
    "from sklearn.preprocessing import FunctionTransformer, StandardScaler, MinMaxScaler, LabelEncoder\n",
    "from sklearn.compose import ColumnTransformer\n",
    "from sklearn.linear_model import LogisticRegression, RidgeClassifier\n",
    "from sklearn.naive_bayes import GaussianNB, BernoulliNB\n",
    "from sklearn.neighbors import KNeighborsClassifier\n",
    "from sklearn.ensemble import RandomForestClassifier, ExtraTreesClassifier\n",
    "from sklearn.ensemble import HistGradientBoostingClassifier, GradientBoostingClassifier, AdaBoostClassifier\n",
    "from sklearn.ensemble import VotingClassifier, StackingClassifier\n",
    "from sklearn.svm import SVC\n",
    "from sklearn.neighbors import KNeighborsClassifier\n",
    "from sklearn.discriminant_analysis import LinearDiscriminantAnalysis, QuadraticDiscriminantAnalysis\n",
    "from sklearn.gaussian_process import GaussianProcessClassifier\n",
    "from scipy.cluster.hierarchy import dendrogram, linkage\n",
    "from scipy.spatial.distance import squareform\n",
    "from xgboost import XGBClassifier\n",
    "from lightgbm import LGBMClassifier\n",
    "from catboost import CatBoostClassifier"
   ]
  },
  {
   "cell_type": "code",
   "execution_count": 16,
   "metadata": {},
   "outputs": [],
   "source": [
    "seed = 93\n",
    "splits = 5\n",
    "skf = StratifiedKFold(n_splits=splits, random_state=seed, shuffle=True)\n",
    "np.random.seed(seed)"
   ]
  },
  {
   "cell_type": "code",
   "execution_count": 17,
   "metadata": {},
   "outputs": [],
   "source": [
    "def cross_val_score(estimator, cv=skf, label=''):\n",
    "    \n",
    "    X = fit_X.copy()\n",
    "    y = fit_Y.copy()\n",
    "    \n",
    "    #initiate prediction arrays and score lists\n",
    "    val_predictions = np.zeros((len(X)))\n",
    "    #train_predictions = np.zeros((len(sample)))\n",
    "    train_scores, val_scores = [], []\n",
    "    \n",
    "    #training model, predicting prognosis probability, and evaluating metrics\n",
    "    for fold, (train_idx, val_idx) in enumerate(cv.split(X, y)):\n",
    "        \n",
    "        model = clone(estimator)\n",
    "        \n",
    "        #define train set\n",
    "        X_train = X[train_idx, :]\n",
    "        y_train = y[train_idx]\n",
    "        \n",
    "        #define validation set\n",
    "        X_val = X[val_idx, :]\n",
    "        y_val = y[val_idx]\n",
    "        \n",
    "        #train model\n",
    "        model.fit(X_train, y_train)\n",
    "        \n",
    "        #make predictions\n",
    "        train_preds = model.predict_proba(X_train)[:, 1]\n",
    "        val_preds = model.predict_proba(X_val)[:, 1]\n",
    "                  \n",
    "        val_predictions[val_idx] += val_preds\n",
    "        \n",
    "        #evaluate model for a fold\n",
    "        train_score = roc_auc_score(y_train, train_preds)\n",
    "        val_score = roc_auc_score(y_val, val_preds)\n",
    "        \n",
    "        #append model score for a fold to list\n",
    "        train_scores.append(train_score)\n",
    "        val_scores.append(val_score)\n",
    "    \n",
    "    print(f'Val Score: {np.mean(val_scores):.5f} ± {np.std(val_scores):.5f} | Train Score: {np.mean(train_scores):.5f} ± {np.std(train_scores):.5f} | {label}')\n",
    "    \n",
    "    return val_scores, val_predictions"
   ]
  },
  {
   "cell_type": "code",
   "execution_count": 18,
   "metadata": {},
   "outputs": [
    {
     "name": "stdout",
     "output_type": "stream",
     "text": [
      "Val Score: 0.77959 ± 0.00390 | Train Score: 0.77985 ± 0.00097 | log\n",
      "Val Score: 0.77838 ± 0.00414 | Train Score: 0.77860 ± 0.00097 | lda\n",
      "Val Score: 0.74714 ± 0.00494 | Train Score: 0.74717 ± 0.00120 | gnb\n",
      "Val Score: 0.74518 ± 0.00496 | Train Score: 0.74519 ± 0.00128 | bnb\n",
      "Val Score: 0.86645 ± 0.00281 | Train Score: 0.99969 ± 0.00003 | rf\n",
      "Val Score: 0.85971 ± 0.00277 | Train Score: 0.99998 ± 0.00000 | et\n",
      "Val Score: 0.85866 ± 0.00265 | Train Score: 0.89347 ± 0.00097 | xgb\n",
      "[LightGBM] [Info] Number of positive: 34991, number of negative: 52486\n",
      "[LightGBM] [Info] Auto-choosing col-wise multi-threading, the overhead of testing was 0.007761 seconds.\n",
      "You can set `force_col_wise=true` to remove the overhead.\n",
      "[LightGBM] [Info] Total Bins 4811\n",
      "[LightGBM] [Info] Number of data points in the train set: 87477, number of used features: 21\n",
      "[LightGBM] [Info] [binary:BoostFromScore]: pavg=0.400002 -> initscore=-0.405456\n",
      "[LightGBM] [Info] Start training from score -0.405456\n",
      "[LightGBM] [Info] Number of positive: 34991, number of negative: 52486\n",
      "[LightGBM] [Info] Auto-choosing col-wise multi-threading, the overhead of testing was 0.005359 seconds.\n",
      "You can set `force_col_wise=true` to remove the overhead.\n",
      "[LightGBM] [Info] Total Bins 4809\n",
      "[LightGBM] [Info] Number of data points in the train set: 87477, number of used features: 21\n",
      "[LightGBM] [Info] [binary:BoostFromScore]: pavg=0.400002 -> initscore=-0.405456\n",
      "[LightGBM] [Info] Start training from score -0.405456\n",
      "[LightGBM] [Info] Number of positive: 34992, number of negative: 52486\n",
      "[LightGBM] [Info] Auto-choosing col-wise multi-threading, the overhead of testing was 0.004849 seconds.\n",
      "You can set `force_col_wise=true` to remove the overhead.\n",
      "[LightGBM] [Info] Total Bins 4807\n",
      "[LightGBM] [Info] Number of data points in the train set: 87478, number of used features: 21\n",
      "[LightGBM] [Info] [binary:BoostFromScore]: pavg=0.400009 -> initscore=-0.405427\n",
      "[LightGBM] [Info] Start training from score -0.405427\n",
      "[LightGBM] [Info] Number of positive: 34991, number of negative: 52487\n",
      "[LightGBM] [Info] Auto-choosing col-wise multi-threading, the overhead of testing was 0.003235 seconds.\n",
      "You can set `force_col_wise=true` to remove the overhead.\n",
      "[LightGBM] [Info] Total Bins 4811\n",
      "[LightGBM] [Info] Number of data points in the train set: 87478, number of used features: 21\n",
      "[LightGBM] [Info] [binary:BoostFromScore]: pavg=0.399998 -> initscore=-0.405475\n",
      "[LightGBM] [Info] Start training from score -0.405475\n",
      "[LightGBM] [Info] Number of positive: 34991, number of negative: 52487\n",
      "[LightGBM] [Info] Auto-choosing col-wise multi-threading, the overhead of testing was 0.005215 seconds.\n",
      "You can set `force_col_wise=true` to remove the overhead.\n",
      "[LightGBM] [Info] Total Bins 4812\n",
      "[LightGBM] [Info] Number of data points in the train set: 87478, number of used features: 21\n",
      "[LightGBM] [Info] [binary:BoostFromScore]: pavg=0.399998 -> initscore=-0.405475\n",
      "[LightGBM] [Info] Start training from score -0.405475\n",
      "Val Score: 0.86838 ± 0.00315 | Train Score: 0.87948 ± 0.00089 | lgb\n",
      "[LightGBM] [Info] Number of positive: 34991, number of negative: 52486\n",
      "[LightGBM] [Info] Auto-choosing col-wise multi-threading, the overhead of testing was 0.007028 seconds.\n",
      "You can set `force_col_wise=true` to remove the overhead.\n",
      "[LightGBM] [Info] Total Bins 4811\n",
      "[LightGBM] [Info] Number of data points in the train set: 87477, number of used features: 21\n",
      "[LightGBM] [Info] [binary:BoostFromScore]: pavg=0.400002 -> initscore=-0.405456\n",
      "[LightGBM] [Info] Start training from score -0.405456\n",
      "[LightGBM] [Info] Number of positive: 34991, number of negative: 52486\n",
      "[LightGBM] [Info] Auto-choosing row-wise multi-threading, the overhead of testing was 0.005287 seconds.\n",
      "You can set `force_row_wise=true` to remove the overhead.\n",
      "And if memory is not enough, you can set `force_col_wise=true`.\n",
      "[LightGBM] [Info] Total Bins 4809\n",
      "[LightGBM] [Info] Number of data points in the train set: 87477, number of used features: 21\n",
      "[LightGBM] [Info] [binary:BoostFromScore]: pavg=0.400002 -> initscore=-0.405456\n",
      "[LightGBM] [Info] Start training from score -0.405456\n",
      "[LightGBM] [Info] Number of positive: 34992, number of negative: 52486\n",
      "[LightGBM] [Info] Auto-choosing col-wise multi-threading, the overhead of testing was 0.007880 seconds.\n",
      "You can set `force_col_wise=true` to remove the overhead.\n",
      "[LightGBM] [Info] Total Bins 4807\n",
      "[LightGBM] [Info] Number of data points in the train set: 87478, number of used features: 21\n",
      "[LightGBM] [Info] [binary:BoostFromScore]: pavg=0.400009 -> initscore=-0.405427\n",
      "[LightGBM] [Info] Start training from score -0.405427\n",
      "[LightGBM] [Info] Number of positive: 34991, number of negative: 52487\n",
      "[LightGBM] [Info] Auto-choosing col-wise multi-threading, the overhead of testing was 0.005975 seconds.\n",
      "You can set `force_col_wise=true` to remove the overhead.\n",
      "[LightGBM] [Info] Total Bins 4811\n",
      "[LightGBM] [Info] Number of data points in the train set: 87478, number of used features: 21\n",
      "[LightGBM] [Info] [binary:BoostFromScore]: pavg=0.399998 -> initscore=-0.405475\n",
      "[LightGBM] [Info] Start training from score -0.405475\n",
      "[LightGBM] [Info] Number of positive: 34991, number of negative: 52487\n",
      "[LightGBM] [Info] Auto-choosing col-wise multi-threading, the overhead of testing was 0.003620 seconds.\n",
      "You can set `force_col_wise=true` to remove the overhead.\n",
      "[LightGBM] [Info] Total Bins 4812\n",
      "[LightGBM] [Info] Number of data points in the train set: 87478, number of used features: 21\n",
      "[LightGBM] [Info] [binary:BoostFromScore]: pavg=0.399998 -> initscore=-0.405475\n",
      "[LightGBM] [Info] Start training from score -0.405475\n",
      "Val Score: 0.86126 ± 0.00268 | Train Score: 0.86585 ± 0.00106 | dart\n",
      "Val Score: 0.87265 ± 0.00288 | Train Score: 0.89354 ± 0.00091 | cb\n",
      "Val Score: 0.85022 ± 0.00308 | Train Score: 0.85266 ± 0.00093 | gb\n",
      "Val Score: 0.85866 ± 0.00281 | Train Score: 0.87074 ± 0.00118 | hgb\n"
     ]
    }
   ],
   "source": [
    "score_list, oof_list = pd.DataFrame(), pd.DataFrame()\n",
    "\n",
    "models = [\n",
    "    ('log', LogisticRegression(random_state = seed, max_iter = 1000000)),\n",
    "    #('svc', SVC(random_state = seed, probability = True)),\n",
    "    ('lda', LinearDiscriminantAnalysis()),\n",
    "    ('gnb', GaussianNB()),\n",
    "    ('bnb', BernoulliNB()),\n",
    "    #('knn', KNeighborsClassifier()),\n",
    "    #('gauss', GaussianProcessClassifier(random_state = seed)),\n",
    "    ('rf', RandomForestClassifier(random_state = seed)),\n",
    "    ('et', ExtraTreesClassifier(random_state = seed)),\n",
    "    ('xgb', XGBClassifier(random_state = seed)),\n",
    "    ('lgb', LGBMClassifier(random_state = seed)),\n",
    "    ('dart', LGBMClassifier(random_state = seed, boosting_type = 'dart')),\n",
    "    ('cb', CatBoostClassifier(random_state = seed, verbose = 0)),\n",
    "    ('gb', GradientBoostingClassifier(random_state = seed)),\n",
    "    ('hgb', HistGradientBoostingClassifier(random_state = seed)),\n",
    "]\n",
    "\n",
    "for (label, model) in models:\n",
    "    score_list[label], oof_list[label] = cross_val_score(\n",
    "        make_pipeline(SimpleImputer(), model),\n",
    "        label = label\n",
    "    )"
   ]
  },
  {
   "cell_type": "code",
   "execution_count": 19,
   "metadata": {},
   "outputs": [
    {
     "data": {
      "image/png": "[encoded data removed]",
      "text/plain": [
       "<Figure size 2400x1200 with 1 Axes>"
      ]
     },
     "metadata": {},
     "output_type": "display_data"
    }
   ],
   "source": [
    "plt.figure(figsize = (8, 4), dpi = 300)\n",
    "sns.barplot(data = score_list.reindex((-1 * score_list).mean().sort_values().index, axis = 1), palette = 'viridis', orient = 'h')\n",
    "plt.title('Score Comparison', weight = 'bold', size = 20)\n",
    "plt.show()"
   ]
  },
  {
   "cell_type": "code",
   "execution_count": 20,
   "metadata": {},
   "outputs": [
    {
     "data": {
      "text/html": [
       "<div>\n",
       "<style scoped>\n",
       "    .dataframe tbody tr th:only-of-type {\n",
       "        vertical-align: middle;\n",
       "    }\n",
       "\n",
       "    .dataframe tbody tr th {\n",
       "        vertical-align: top;\n",
       "    }\n",
       "\n",
       "    .dataframe thead th {\n",
       "        text-align: right;\n",
       "    }\n",
       "</style>\n",
       "<table border=\"1\" class=\"dataframe\">\n",
       "  <thead>\n",
       "    <tr style=\"text-align: right;\">\n",
       "      <th></th>\n",
       "      <th>weight per model</th>\n",
       "    </tr>\n",
       "  </thead>\n",
       "  <tbody>\n",
       "    <tr>\n",
       "      <th>log</th>\n",
       "      <td>-0.146764</td>\n",
       "    </tr>\n",
       "    <tr>\n",
       "      <th>lda</th>\n",
       "      <td>-0.137065</td>\n",
       "    </tr>\n",
       "    <tr>\n",
       "      <th>gnb</th>\n",
       "      <td>-0.001946</td>\n",
       "    </tr>\n",
       "    <tr>\n",
       "      <th>bnb</th>\n",
       "      <td>-0.020817</td>\n",
       "    </tr>\n",
       "    <tr>\n",
       "      <th>rf</th>\n",
       "      <td>-0.107562</td>\n",
       "    </tr>\n",
       "    <tr>\n",
       "      <th>et</th>\n",
       "      <td>0.949214</td>\n",
       "    </tr>\n",
       "    <tr>\n",
       "      <th>xgb</th>\n",
       "      <td>-0.097329</td>\n",
       "    </tr>\n",
       "    <tr>\n",
       "      <th>lgb</th>\n",
       "      <td>0.759461</td>\n",
       "    </tr>\n",
       "    <tr>\n",
       "      <th>dart</th>\n",
       "      <td>0.053497</td>\n",
       "    </tr>\n",
       "    <tr>\n",
       "      <th>cb</th>\n",
       "      <td>1.463821</td>\n",
       "    </tr>\n",
       "    <tr>\n",
       "      <th>gb</th>\n",
       "      <td>-0.472076</td>\n",
       "    </tr>\n",
       "    <tr>\n",
       "      <th>hgb</th>\n",
       "      <td>-0.228143</td>\n",
       "    </tr>\n",
       "  </tbody>\n",
       "</table>\n",
       "</div>"
      ],
      "text/plain": [
       "      weight per model\n",
       "log          -0.146764\n",
       "lda          -0.137065\n",
       "gnb          -0.001946\n",
       "bnb          -0.020817\n",
       "rf           -0.107562\n",
       "et            0.949214\n",
       "xgb          -0.097329\n",
       "lgb           0.759461\n",
       "dart          0.053497\n",
       "cb            1.463821\n",
       "gb           -0.472076\n",
       "hgb          -0.228143"
      ]
     },
     "execution_count": 20,
     "metadata": {},
     "output_type": "execute_result"
    }
   ],
   "source": [
    "weights = RidgeClassifier(random_state = seed).fit(oof_list, y).coef_[0]\n",
    "pd.DataFrame(weights, index = list(oof_list), columns = ['weight per model'])"
   ]
  },
  {
   "cell_type": "code",
   "execution_count": 21,
   "metadata": {},
   "outputs": [
    {
     "name": "stdout",
     "output_type": "stream",
     "text": [
      "[LightGBM] [Info] Number of positive: 34991, number of negative: 52486\n",
      "[LightGBM] [Info] Auto-choosing col-wise multi-threading, the overhead of testing was 0.006694 seconds.\n",
      "You can set `force_col_wise=true` to remove the overhead.\n",
      "[LightGBM] [Info] Total Bins 4811\n",
      "[LightGBM] [Info] Number of data points in the train set: 87477, number of used features: 21\n",
      "[LightGBM] [Info] [binary:BoostFromScore]: pavg=0.400002 -> initscore=-0.405456\n",
      "[LightGBM] [Info] Start training from score -0.405456\n",
      "[LightGBM] [Info] Number of positive: 34991, number of negative: 52486\n",
      "[LightGBM] [Info] Auto-choosing col-wise multi-threading, the overhead of testing was 0.009214 seconds.\n",
      "You can set `force_col_wise=true` to remove the overhead.\n",
      "[LightGBM] [Info] Total Bins 4811\n",
      "[LightGBM] [Info] Number of data points in the train set: 87477, number of used features: 21\n",
      "[LightGBM] [Info] [binary:BoostFromScore]: pavg=0.400002 -> initscore=-0.405456\n",
      "[LightGBM] [Info] Start training from score -0.405456\n",
      "[LightGBM] [Info] Number of positive: 34991, number of negative: 52486\n",
      "[LightGBM] [Info] Auto-choosing col-wise multi-threading, the overhead of testing was 0.005865 seconds.\n",
      "You can set `force_col_wise=true` to remove the overhead.\n",
      "[LightGBM] [Info] Total Bins 4809\n",
      "[LightGBM] [Info] Number of data points in the train set: 87477, number of used features: 21\n",
      "[LightGBM] [Info] [binary:BoostFromScore]: pavg=0.400002 -> initscore=-0.405456\n",
      "[LightGBM] [Info] Start training from score -0.405456\n",
      "[LightGBM] [Info] Number of positive: 34991, number of negative: 52486\n",
      "[LightGBM] [Info] Auto-choosing col-wise multi-threading, the overhead of testing was 0.004379 seconds.\n",
      "You can set `force_col_wise=true` to remove the overhead.\n",
      "[LightGBM] [Info] Total Bins 4809\n",
      "[LightGBM] [Info] Number of data points in the train set: 87477, number of used features: 21\n",
      "[LightGBM] [Info] [binary:BoostFromScore]: pavg=0.400002 -> initscore=-0.405456\n",
      "[LightGBM] [Info] Start training from score -0.405456\n",
      "[LightGBM] [Info] Number of positive: 34992, number of negative: 52486\n",
      "[LightGBM] [Info] Auto-choosing col-wise multi-threading, the overhead of testing was 0.006111 seconds.\n",
      "You can set `force_col_wise=true` to remove the overhead.\n",
      "[LightGBM] [Info] Total Bins 4807\n",
      "[LightGBM] [Info] Number of data points in the train set: 87478, number of used features: 21\n",
      "[LightGBM] [Info] [binary:BoostFromScore]: pavg=0.400009 -> initscore=-0.405427\n",
      "[LightGBM] [Info] Start training from score -0.405427\n",
      "[LightGBM] [Info] Number of positive: 34992, number of negative: 52486\n",
      "[LightGBM] [Info] Auto-choosing col-wise multi-threading, the overhead of testing was 0.004347 seconds.\n",
      "You can set `force_col_wise=true` to remove the overhead.\n",
      "[LightGBM] [Info] Total Bins 4807\n",
      "[LightGBM] [Info] Number of data points in the train set: 87478, number of used features: 21\n",
      "[LightGBM] [Info] [binary:BoostFromScore]: pavg=0.400009 -> initscore=-0.405427\n",
      "[LightGBM] [Info] Start training from score -0.405427\n",
      "[LightGBM] [Info] Number of positive: 34991, number of negative: 52487\n",
      "[LightGBM] [Info] Auto-choosing col-wise multi-threading, the overhead of testing was 0.010031 seconds.\n",
      "You can set `force_col_wise=true` to remove the overhead.\n",
      "[LightGBM] [Info] Total Bins 4811\n",
      "[LightGBM] [Info] Number of data points in the train set: 87478, number of used features: 21\n",
      "[LightGBM] [Info] [binary:BoostFromScore]: pavg=0.399998 -> initscore=-0.405475\n",
      "[LightGBM] [Info] Start training from score -0.405475\n",
      "[LightGBM] [Info] Number of positive: 34991, number of negative: 52487\n",
      "[LightGBM] [Info] Auto-choosing col-wise multi-threading, the overhead of testing was 0.004955 seconds.\n",
      "You can set `force_col_wise=true` to remove the overhead.\n",
      "[LightGBM] [Info] Total Bins 4811\n",
      "[LightGBM] [Info] Number of data points in the train set: 87478, number of used features: 21\n",
      "[LightGBM] [Info] [binary:BoostFromScore]: pavg=0.399998 -> initscore=-0.405475\n",
      "[LightGBM] [Info] Start training from score -0.405475\n",
      "[LightGBM] [Info] Number of positive: 34991, number of negative: 52487\n",
      "[LightGBM] [Info] Auto-choosing col-wise multi-threading, the overhead of testing was 0.004107 seconds.\n",
      "You can set `force_col_wise=true` to remove the overhead.\n",
      "[LightGBM] [Info] Total Bins 4812\n",
      "[LightGBM] [Info] Number of data points in the train set: 87478, number of used features: 21\n",
      "[LightGBM] [Info] [binary:BoostFromScore]: pavg=0.399998 -> initscore=-0.405475\n",
      "[LightGBM] [Info] Start training from score -0.405475\n",
      "[LightGBM] [Info] Number of positive: 34991, number of negative: 52487\n",
      "[LightGBM] [Info] Auto-choosing col-wise multi-threading, the overhead of testing was 0.012056 seconds.\n",
      "You can set `force_col_wise=true` to remove the overhead.\n",
      "[LightGBM] [Info] Total Bins 4812\n",
      "[LightGBM] [Info] Number of data points in the train set: 87478, number of used features: 21\n",
      "[LightGBM] [Info] [binary:BoostFromScore]: pavg=0.399998 -> initscore=-0.405475\n",
      "[LightGBM] [Info] Start training from score -0.405475\n",
      "Val Score: 0.88365 ± 0.00236 | Train Score: 0.99928 ± 0.00003 | \n"
     ]
    }
   ],
   "source": [
    "voter = VotingClassifier(models, weights = weights, voting = 'soft')\n",
    "_ = cross_val_score(make_pipeline(SimpleImputer(), voter))"
   ]
  },
  {
   "cell_type": "code",
   "execution_count": 22,
   "metadata": {},
   "outputs": [],
   "source": [
    "model = make_pipeline(\n",
    "    SimpleImputer(),\n",
    "    voter\n",
    ")"
   ]
  },
  {
   "cell_type": "code",
   "execution_count": 23,
   "metadata": {},
   "outputs": [
    {
     "name": "stdout",
     "output_type": "stream",
     "text": [
      "[LightGBM] [Info] Number of positive: 43739, number of negative: 65608\n",
      "[LightGBM] [Info] Auto-choosing row-wise multi-threading, the overhead of testing was 0.002144 seconds.\n",
      "You can set `force_row_wise=true` to remove the overhead.\n",
      "And if memory is not enough, you can set `force_col_wise=true`.\n",
      "[LightGBM] [Info] Total Bins 4821\n",
      "[LightGBM] [Info] Number of data points in the train set: 109347, number of used features: 21\n",
      "[LightGBM] [Info] [binary:BoostFromScore]: pavg=0.400002 -> initscore=-0.405457\n",
      "[LightGBM] [Info] Start training from score -0.405457\n",
      "[LightGBM] [Info] Number of positive: 43739, number of negative: 65608\n",
      "[LightGBM] [Info] Auto-choosing col-wise multi-threading, the overhead of testing was 0.006440 seconds.\n",
      "You can set `force_col_wise=true` to remove the overhead.\n",
      "[LightGBM] [Info] Total Bins 4821\n",
      "[LightGBM] [Info] Number of data points in the train set: 109347, number of used features: 21\n",
      "[LightGBM] [Info] [binary:BoostFromScore]: pavg=0.400002 -> initscore=-0.405457\n",
      "[LightGBM] [Info] Start training from score -0.405457\n"
     ]
    },
    {
     "data": {
      "text/html": [
       "<style>#sk-container-id-1 {color: black;}#sk-container-id-1 pre{padding: 0;}#sk-container-id-1 div.sk-toggleable {background-color: white;}#sk-container-id-1 label.sk-toggleable__label {cursor: pointer;display: block;width: 100%;margin-bottom: 0;padding: 0.3em;box-sizing: border-box;text-align: center;}#sk-container-id-1 label.sk-toggleable__label-arrow:before {content: \"▸\";float: left;margin-right: 0.25em;color: #696969;}#sk-container-id-1 label.sk-toggleable__label-arrow:hover:before {color: black;}#sk-container-id-1 div.sk-estimator:hover label.sk-toggleable__label-arrow:before {color: black;}#sk-container-id-1 div.sk-toggleable__content {max-height: 0;max-width: 0;overflow: hidden;text-align: left;background-color: #f0f8ff;}#sk-container-id-1 div.sk-toggleable__content pre {margin: 0.2em;color: black;border-radius: 0.25em;background-color: #f0f8ff;}#sk-container-id-1 input.sk-toggleable__control:checked~div.sk-toggleable__content {max-height: 200px;max-width: 100%;overflow: auto;}#sk-container-id-1 input.sk-toggleable__control:checked~label.sk-toggleable__label-arrow:before {content: \"▾\";}#sk-container-id-1 div.sk-estimator input.sk-toggleable__control:checked~label.sk-toggleable__label {background-color: #d4ebff;}#sk-container-id-1 div.sk-label input.sk-toggleable__control:checked~label.sk-toggleable__label {background-color: #d4ebff;}#sk-container-id-1 input.sk-hidden--visually {border: 0;clip: rect(1px 1px 1px 1px);clip: rect(1px, 1px, 1px, 1px);height: 1px;margin: -1px;overflow: hidden;padding: 0;position: absolute;width: 1px;}#sk-container-id-1 div.sk-estimator {font-family: monospace;background-color: #f0f8ff;border: 1px dotted black;border-radius: 0.25em;box-sizing: border-box;margin-bottom: 0.5em;}#sk-container-id-1 div.sk-estimator:hover {background-color: #d4ebff;}#sk-container-id-1 div.sk-parallel-item::after {content: \"\";width: 100%;border-bottom: 1px solid gray;flex-grow: 1;}#sk-container-id-1 div.sk-label:hover label.sk-toggleable__label {background-color: #d4ebff;}#sk-container-id-1 div.sk-serial::before {content: \"\";position: absolute;border-left: 1px solid gray;box-sizing: border-box;top: 0;bottom: 0;left: 50%;z-index: 0;}#sk-container-id-1 div.sk-serial {display: flex;flex-direction: column;align-items: center;background-color: white;padding-right: 0.2em;padding-left: 0.2em;position: relative;}#sk-container-id-1 div.sk-item {position: relative;z-index: 1;}#sk-container-id-1 div.sk-parallel {display: flex;align-items: stretch;justify-content: center;background-color: white;position: relative;}#sk-container-id-1 div.sk-item::before, #sk-container-id-1 div.sk-parallel-item::before {content: \"\";position: absolute;border-left: 1px solid gray;box-sizing: border-box;top: 0;bottom: 0;left: 50%;z-index: -1;}#sk-container-id-1 div.sk-parallel-item {display: flex;flex-direction: column;z-index: 1;position: relative;background-color: white;}#sk-container-id-1 div.sk-parallel-item:first-child::after {align-self: flex-end;width: 50%;}#sk-container-id-1 div.sk-parallel-item:last-child::after {align-self: flex-start;width: 50%;}#sk-container-id-1 div.sk-parallel-item:only-child::after {width: 0;}#sk-container-id-1 div.sk-dashed-wrapped {border: 1px dashed gray;margin: 0 0.4em 0.5em 0.4em;box-sizing: border-box;padding-bottom: 0.4em;background-color: white;}#sk-container-id-1 div.sk-label label {font-family: monospace;font-weight: bold;display: inline-block;line-height: 1.2em;}#sk-container-id-1 div.sk-label-container {text-align: center;}#sk-container-id-1 div.sk-container {/* jupyter's `normalize.less` sets `[hidden] { display: none; }` but bootstrap.min.css set `[hidden] { display: none !important; }` so we also need the `!important` here to be able to override the default hidden behavior on the sphinx rendered scikit-learn.org. See: https://github.com/scikit-learn/scikit-learn/issues/21755 */display: inline-block !important;position: relative;}#sk-container-id-1 div.sk-text-repr-fallback {display: none;}</style><div id=\"sk-container-id-1\" class=\"sk-top-container\"><div class=\"sk-text-repr-fallback\"><pre>Pipeline(steps=[(&#x27;simpleimputer&#x27;, SimpleImputer()),\n",
       "                (&#x27;votingclassifier&#x27;,\n",
       "                 VotingClassifier(estimators=[(&#x27;log&#x27;,\n",
       "                                               LogisticRegression(max_iter=1000000,\n",
       "                                                                  random_state=93)),\n",
       "                                              (&#x27;lda&#x27;,\n",
       "                                               LinearDiscriminantAnalysis()),\n",
       "                                              (&#x27;gnb&#x27;, GaussianNB()),\n",
       "                                              (&#x27;bnb&#x27;, BernoulliNB()),\n",
       "                                              (&#x27;rf&#x27;,\n",
       "                                               RandomForestClassifier(random_state=93)),\n",
       "                                              (&#x27;et&#x27;,\n",
       "                                               ExtraTreesClassifier(random_state=93)),\n",
       "                                              (&#x27;xgb&#x27;,\n",
       "                                               XGBClassifi...\n",
       "                                                              random_state=93)),\n",
       "                                              (&#x27;cb&#x27;,\n",
       "                                               &lt;catboost.core.CatBoostClassifier object at 0x000001A4E4086DD0&gt;),\n",
       "                                              (&#x27;gb&#x27;,\n",
       "                                               GradientBoostingClassifier(random_state=93)),\n",
       "                                              (&#x27;hgb&#x27;,\n",
       "                                               HistGradientBoostingClassifier(random_state=93))],\n",
       "                                  voting=&#x27;soft&#x27;,\n",
       "                                  weights=array([-0.1467642 , -0.13706485, -0.00194611, -0.02081692, -0.10756233,\n",
       "        0.94921423, -0.09732878,  0.75946096,  0.05349717,  1.46382138,\n",
       "       -0.47207559, -0.22814265])))])</pre><b>In a Jupyter environment, please rerun this cell to show the HTML representation or trust the notebook. <br />On GitHub, the HTML representation is unable to render, please try loading this page with nbviewer.org.</b></div><div class=\"sk-container\" hidden><div class=\"sk-item sk-dashed-wrapped\"><div class=\"sk-label-container\"><div class=\"sk-label sk-toggleable\"><input class=\"sk-toggleable__control sk-hidden--visually\" id=\"sk-estimator-id-1\" type=\"checkbox\" ><label for=\"sk-estimator-id-1\" class=\"sk-toggleable__label sk-toggleable__label-arrow\">Pipeline</label><div class=\"sk-toggleable__content\"><pre>Pipeline(steps=[(&#x27;simpleimputer&#x27;, SimpleImputer()),\n",
       "                (&#x27;votingclassifier&#x27;,\n",
       "                 VotingClassifier(estimators=[(&#x27;log&#x27;,\n",
       "                                               LogisticRegression(max_iter=1000000,\n",
       "                                                                  random_state=93)),\n",
       "                                              (&#x27;lda&#x27;,\n",
       "                                               LinearDiscriminantAnalysis()),\n",
       "                                              (&#x27;gnb&#x27;, GaussianNB()),\n",
       "                                              (&#x27;bnb&#x27;, BernoulliNB()),\n",
       "                                              (&#x27;rf&#x27;,\n",
       "                                               RandomForestClassifier(random_state=93)),\n",
       "                                              (&#x27;et&#x27;,\n",
       "                                               ExtraTreesClassifier(random_state=93)),\n",
       "                                              (&#x27;xgb&#x27;,\n",
       "                                               XGBClassifi...\n",
       "                                                              random_state=93)),\n",
       "                                              (&#x27;cb&#x27;,\n",
       "                                               &lt;catboost.core.CatBoostClassifier object at 0x000001A4E4086DD0&gt;),\n",
       "                                              (&#x27;gb&#x27;,\n",
       "                                               GradientBoostingClassifier(random_state=93)),\n",
       "                                              (&#x27;hgb&#x27;,\n",
       "                                               HistGradientBoostingClassifier(random_state=93))],\n",
       "                                  voting=&#x27;soft&#x27;,\n",
       "                                  weights=array([-0.1467642 , -0.13706485, -0.00194611, -0.02081692, -0.10756233,\n",
       "        0.94921423, -0.09732878,  0.75946096,  0.05349717,  1.46382138,\n",
       "       -0.47207559, -0.22814265])))])</pre></div></div></div><div class=\"sk-serial\"><div class=\"sk-item\"><div class=\"sk-estimator sk-toggleable\"><input class=\"sk-toggleable__control sk-hidden--visually\" id=\"sk-estimator-id-2\" type=\"checkbox\" ><label for=\"sk-estimator-id-2\" class=\"sk-toggleable__label sk-toggleable__label-arrow\">SimpleImputer</label><div class=\"sk-toggleable__content\"><pre>SimpleImputer()</pre></div></div></div><div class=\"sk-item sk-dashed-wrapped\"><div class=\"sk-label-container\"><div class=\"sk-label sk-toggleable\"><input class=\"sk-toggleable__control sk-hidden--visually\" id=\"sk-estimator-id-3\" type=\"checkbox\" ><label for=\"sk-estimator-id-3\" class=\"sk-toggleable__label sk-toggleable__label-arrow\">votingclassifier: VotingClassifier</label><div class=\"sk-toggleable__content\"><pre>VotingClassifier(estimators=[(&#x27;log&#x27;,\n",
       "                              LogisticRegression(max_iter=1000000,\n",
       "                                                 random_state=93)),\n",
       "                             (&#x27;lda&#x27;, LinearDiscriminantAnalysis()),\n",
       "                             (&#x27;gnb&#x27;, GaussianNB()), (&#x27;bnb&#x27;, BernoulliNB()),\n",
       "                             (&#x27;rf&#x27;, RandomForestClassifier(random_state=93)),\n",
       "                             (&#x27;et&#x27;, ExtraTreesClassifier(random_state=93)),\n",
       "                             (&#x27;xgb&#x27;,\n",
       "                              XGBClassifier(base_score=None, booster=None,\n",
       "                                            callbacks=None,\n",
       "                                            colsample_bylevel=None,...\n",
       "                                             random_state=93)),\n",
       "                             (&#x27;cb&#x27;,\n",
       "                              &lt;catboost.core.CatBoostClassifier object at 0x000001A4E4086DD0&gt;),\n",
       "                             (&#x27;gb&#x27;,\n",
       "                              GradientBoostingClassifier(random_state=93)),\n",
       "                             (&#x27;hgb&#x27;,\n",
       "                              HistGradientBoostingClassifier(random_state=93))],\n",
       "                 voting=&#x27;soft&#x27;,\n",
       "                 weights=array([-0.1467642 , -0.13706485, -0.00194611, -0.02081692, -0.10756233,\n",
       "        0.94921423, -0.09732878,  0.75946096,  0.05349717,  1.46382138,\n",
       "       -0.47207559, -0.22814265]))</pre></div></div></div><div class=\"sk-parallel\"><div class=\"sk-parallel-item\"><div class=\"sk-item\"><div class=\"sk-label-container\"><div class=\"sk-label sk-toggleable\"><label>log</label></div></div><div class=\"sk-serial\"><div class=\"sk-item\"><div class=\"sk-estimator sk-toggleable\"><input class=\"sk-toggleable__control sk-hidden--visually\" id=\"sk-estimator-id-4\" type=\"checkbox\" ><label for=\"sk-estimator-id-4\" class=\"sk-toggleable__label sk-toggleable__label-arrow\">LogisticRegression</label><div class=\"sk-toggleable__content\"><pre>LogisticRegression(max_iter=1000000, random_state=93)</pre></div></div></div></div></div></div><div class=\"sk-parallel-item\"><div class=\"sk-item\"><div class=\"sk-label-container\"><div class=\"sk-label sk-toggleable\"><label>lda</label></div></div><div class=\"sk-serial\"><div class=\"sk-item\"><div class=\"sk-estimator sk-toggleable\"><input class=\"sk-toggleable__control sk-hidden--visually\" id=\"sk-estimator-id-5\" type=\"checkbox\" ><label for=\"sk-estimator-id-5\" class=\"sk-toggleable__label sk-toggleable__label-arrow\">LinearDiscriminantAnalysis</label><div class=\"sk-toggleable__content\"><pre>LinearDiscriminantAnalysis()</pre></div></div></div></div></div></div><div class=\"sk-parallel-item\"><div class=\"sk-item\"><div class=\"sk-label-container\"><div class=\"sk-label sk-toggleable\"><label>gnb</label></div></div><div class=\"sk-serial\"><div class=\"sk-item\"><div class=\"sk-estimator sk-toggleable\"><input class=\"sk-toggleable__control sk-hidden--visually\" id=\"sk-estimator-id-6\" type=\"checkbox\" ><label for=\"sk-estimator-id-6\" class=\"sk-toggleable__label sk-toggleable__label-arrow\">GaussianNB</label><div class=\"sk-toggleable__content\"><pre>GaussianNB()</pre></div></div></div></div></div></div><div class=\"sk-parallel-item\"><div class=\"sk-item\"><div class=\"sk-label-container\"><div class=\"sk-label sk-toggleable\"><label>bnb</label></div></div><div class=\"sk-serial\"><div class=\"sk-item\"><div class=\"sk-estimator sk-toggleable\"><input class=\"sk-toggleable__control sk-hidden--visually\" id=\"sk-estimator-id-7\" type=\"checkbox\" ><label for=\"sk-estimator-id-7\" class=\"sk-toggleable__label sk-toggleable__label-arrow\">BernoulliNB</label><div class=\"sk-toggleable__content\"><pre>BernoulliNB()</pre></div></div></div></div></div></div><div class=\"sk-parallel-item\"><div class=\"sk-item\"><div class=\"sk-label-container\"><div class=\"sk-label sk-toggleable\"><label>rf</label></div></div><div class=\"sk-serial\"><div class=\"sk-item\"><div class=\"sk-estimator sk-toggleable\"><input class=\"sk-toggleable__control sk-hidden--visually\" id=\"sk-estimator-id-8\" type=\"checkbox\" ><label for=\"sk-estimator-id-8\" class=\"sk-toggleable__label sk-toggleable__label-arrow\">RandomForestClassifier</label><div class=\"sk-toggleable__content\"><pre>RandomForestClassifier(random_state=93)</pre></div></div></div></div></div></div><div class=\"sk-parallel-item\"><div class=\"sk-item\"><div class=\"sk-label-container\"><div class=\"sk-label sk-toggleable\"><label>et</label></div></div><div class=\"sk-serial\"><div class=\"sk-item\"><div class=\"sk-estimator sk-toggleable\"><input class=\"sk-toggleable__control sk-hidden--visually\" id=\"sk-estimator-id-9\" type=\"checkbox\" ><label for=\"sk-estimator-id-9\" class=\"sk-toggleable__label sk-toggleable__label-arrow\">ExtraTreesClassifier</label><div class=\"sk-toggleable__content\"><pre>ExtraTreesClassifier(random_state=93)</pre></div></div></div></div></div></div><div class=\"sk-parallel-item\"><div class=\"sk-item\"><div class=\"sk-label-container\"><div class=\"sk-label sk-toggleable\"><label>xgb</label></div></div><div class=\"sk-serial\"><div class=\"sk-item\"><div class=\"sk-estimator sk-toggleable\"><input class=\"sk-toggleable__control sk-hidden--visually\" id=\"sk-estimator-id-10\" type=\"checkbox\" ><label for=\"sk-estimator-id-10\" class=\"sk-toggleable__label sk-toggleable__label-arrow\">XGBClassifier</label><div class=\"sk-toggleable__content\"><pre>XGBClassifier(base_score=None, booster=None, callbacks=None,\n",
       "              colsample_bylevel=None, colsample_bynode=None,\n",
       "              colsample_bytree=None, device=None, early_stopping_rounds=None,\n",
       "              enable_categorical=False, eval_metric=None, feature_types=None,\n",
       "              gamma=None, grow_policy=None, importance_type=None,\n",
       "              interaction_constraints=None, learning_rate=None, max_bin=None,\n",
       "              max_cat_threshold=None, max_cat_to_onehot=None,\n",
       "              max_delta_step=None, max_depth=None, max_leaves=None,\n",
       "              min_child_weight=None, missing=nan, monotone_constraints=None,\n",
       "              multi_strategy=None, n_estimators=None, n_jobs=None,\n",
       "              num_parallel_tree=None, random_state=93, ...)</pre></div></div></div></div></div></div><div class=\"sk-parallel-item\"><div class=\"sk-item\"><div class=\"sk-label-container\"><div class=\"sk-label sk-toggleable\"><label>lgb</label></div></div><div class=\"sk-serial\"><div class=\"sk-item\"><div class=\"sk-estimator sk-toggleable\"><input class=\"sk-toggleable__control sk-hidden--visually\" id=\"sk-estimator-id-11\" type=\"checkbox\" ><label for=\"sk-estimator-id-11\" class=\"sk-toggleable__label sk-toggleable__label-arrow\">LGBMClassifier</label><div class=\"sk-toggleable__content\"><pre>LGBMClassifier(random_state=93)</pre></div></div></div></div></div></div><div class=\"sk-parallel-item\"><div class=\"sk-item\"><div class=\"sk-label-container\"><div class=\"sk-label sk-toggleable\"><label>dart</label></div></div><div class=\"sk-serial\"><div class=\"sk-item\"><div class=\"sk-estimator sk-toggleable\"><input class=\"sk-toggleable__control sk-hidden--visually\" id=\"sk-estimator-id-12\" type=\"checkbox\" ><label for=\"sk-estimator-id-12\" class=\"sk-toggleable__label sk-toggleable__label-arrow\">LGBMClassifier</label><div class=\"sk-toggleable__content\"><pre>LGBMClassifier(boosting_type=&#x27;dart&#x27;, random_state=93)</pre></div></div></div></div></div></div><div class=\"sk-parallel-item\"><div class=\"sk-item\"><div class=\"sk-label-container\"><div class=\"sk-label sk-toggleable\"><label>cb</label></div></div><div class=\"sk-serial\"><div class=\"sk-item\"><div class=\"sk-estimator sk-toggleable\"><input class=\"sk-toggleable__control sk-hidden--visually\" id=\"sk-estimator-id-13\" type=\"checkbox\" ><label for=\"sk-estimator-id-13\" class=\"sk-toggleable__label sk-toggleable__label-arrow\">CatBoostClassifier</label><div class=\"sk-toggleable__content\"><pre>&lt;catboost.core.CatBoostClassifier object at 0x000001A4E4086DD0&gt;</pre></div></div></div></div></div></div><div class=\"sk-parallel-item\"><div class=\"sk-item\"><div class=\"sk-label-container\"><div class=\"sk-label sk-toggleable\"><label>gb</label></div></div><div class=\"sk-serial\"><div class=\"sk-item\"><div class=\"sk-estimator sk-toggleable\"><input class=\"sk-toggleable__control sk-hidden--visually\" id=\"sk-estimator-id-14\" type=\"checkbox\" ><label for=\"sk-estimator-id-14\" class=\"sk-toggleable__label sk-toggleable__label-arrow\">GradientBoostingClassifier</label><div class=\"sk-toggleable__content\"><pre>GradientBoostingClassifier(random_state=93)</pre></div></div></div></div></div></div><div class=\"sk-parallel-item\"><div class=\"sk-item\"><div class=\"sk-label-container\"><div class=\"sk-label sk-toggleable\"><label>hgb</label></div></div><div class=\"sk-serial\"><div class=\"sk-item\"><div class=\"sk-estimator sk-toggleable\"><input class=\"sk-toggleable__control sk-hidden--visually\" id=\"sk-estimator-id-15\" type=\"checkbox\" ><label for=\"sk-estimator-id-15\" class=\"sk-toggleable__label sk-toggleable__label-arrow\">HistGradientBoostingClassifier</label><div class=\"sk-toggleable__content\"><pre>HistGradientBoostingClassifier(random_state=93)</pre></div></div></div></div></div></div></div></div></div></div></div></div>"
      ],
      "text/plain": [
       "Pipeline(steps=[('simpleimputer', SimpleImputer()),\n",
       "                ('votingclassifier',\n",
       "                 VotingClassifier(estimators=[('log',\n",
       "                                               LogisticRegression(max_iter=1000000,\n",
       "                                                                  random_state=93)),\n",
       "                                              ('lda',\n",
       "                                               LinearDiscriminantAnalysis()),\n",
       "                                              ('gnb', GaussianNB()),\n",
       "                                              ('bnb', BernoulliNB()),\n",
       "                                              ('rf',\n",
       "                                               RandomForestClassifier(random_state=93)),\n",
       "                                              ('et',\n",
       "                                               ExtraTreesClassifier(random_state=93)),\n",
       "                                              ('xgb',\n",
       "                                               XGBClassifi...\n",
       "                                                              random_state=93)),\n",
       "                                              ('cb',\n",
       "                                               <catboost.core.CatBoostClassifier object at 0x000001A4E4086DD0>),\n",
       "                                              ('gb',\n",
       "                                               GradientBoostingClassifier(random_state=93)),\n",
       "                                              ('hgb',\n",
       "                                               HistGradientBoostingClassifier(random_state=93))],\n",
       "                                  voting='soft',\n",
       "                                  weights=array([-0.1467642 , -0.13706485, -0.00194611, -0.02081692, -0.10756233,\n",
       "        0.94921423, -0.09732878,  0.75946096,  0.05349717,  1.46382138,\n",
       "       -0.47207559, -0.22814265])))])"
      ]
     },
     "execution_count": 23,
     "metadata": {},
     "output_type": "execute_result"
    }
   ],
   "source": [
    "model.fit(fit_X, fit_Y)"
   ]
  },
  {
   "cell_type": "code",
   "execution_count": 51,
   "metadata": {},
   "outputs": [],
   "source": [
    "pred_X, id = read_test()"
   ]
  },
  {
   "cell_type": "code",
   "execution_count": 52,
   "metadata": {},
   "outputs": [],
   "source": [
    "pred_X = transform_X(pred_X)"
   ]
  },
  {
   "cell_type": "code",
   "execution_count": 24,
   "metadata": {},
   "outputs": [],
   "source": [
    "pred = model.predict_proba(pred_X)"
   ]
  },
  {
   "cell_type": "code",
   "execution_count": 26,
   "metadata": {},
   "outputs": [
    {
     "data": {
      "text/plain": [
       "array([[ 0.08521706,  0.91478294],\n",
       "       [ 0.1038907 ,  0.8961093 ],\n",
       "       [ 0.04372184,  0.95627816],\n",
       "       ...,\n",
       "       [ 0.02647826,  0.97352174],\n",
       "       [-0.00826584,  1.00826584],\n",
       "       [ 0.11950661,  0.88049339]])"
      ]
     },
     "execution_count": 26,
     "metadata": {},
     "output_type": "execute_result"
    }
   ],
   "source": [
    "pred"
   ]
  },
  {
   "cell_type": "code",
   "execution_count": 25,
   "metadata": {},
   "outputs": [],
   "source": [
    "output = pd.DataFrame({\"id\": id, \"defects\": pred[:, 1]})"
   ]
  },
  {
   "cell_type": "code",
   "execution_count": 27,
   "metadata": {},
   "outputs": [],
   "source": [
    "output.to_csv(\"prediction.csv\", index=False)"
   ]
  },
  {
   "cell_type": "code",
   "execution_count": 28,
   "metadata": {},
   "outputs": [
    {
     "data": {
      "text/plain": [
       "42"
      ]
     },
     "execution_count": 28,
     "metadata": {},
     "output_type": "execute_result"
    }
   ],
   "source": [
    "sum(output.defects < 0.5)"
   ]
  },
  {
   "cell_type": "code",
   "execution_count": null,
   "metadata": {},
   "outputs": [],
   "source": []
  }
 ],
 "metadata": {
  "kernelspec": {
   "display_name": "base",
   "language": "python",
   "name": "python3"
  },
  "language_info": {
   "codemirror_mode": {
    "name": "ipython",
    "version": 3
   },
   "file_extension": ".py",
   "mimetype": "text/x-python",
   "name": "python",
   "nbconvert_exporter": "python",
   "pygments_lexer": "ipython3",
   "version": "3.11.5"
  },
  "orig_nbformat": 4
 },
 "nbformat": 4,
 "nbformat_minor": 2
}

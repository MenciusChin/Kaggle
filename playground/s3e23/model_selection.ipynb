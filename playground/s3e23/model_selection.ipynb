{
 "cells": [
  {
   "cell_type": "markdown",
   "metadata": {},
   "source": [
    "# Binary Classification with a Software Defects Dataset\n",
    "Playground Series - Season 3, Episode 23\n",
    "https://www.kaggle.com/competitions/playground-series-s3e23/data"
   ]
  },
  {
   "cell_type": "code",
   "execution_count": 1,
   "metadata": {},
   "outputs": [],
   "source": [
    "# Libraries\n",
    "import numpy as np\n",
    "import pandas as pd\n",
    "\n",
    "from preprocessing import read_train, SMOTE_data, plot_dist\n",
    "\n",
    "from sklearn.preprocessing import StandardScaler\n",
    "from sklearn.model_selection import train_test_split\n",
    "from sklearn.metrics import roc_auc_score, accuracy_score\n",
    "\n",
    "import torch\n",
    "import torch.nn as nn\n",
    "import torch.nn.functional as F\n",
    "from torch.utils.data import Dataset, DataLoader\n",
    "\n",
    "import matplotlib.pyplot as plt"
   ]
  },
  {
   "cell_type": "markdown",
   "metadata": {},
   "source": [
    "### Data"
   ]
  },
  {
   "cell_type": "code",
   "execution_count": 2,
   "metadata": {},
   "outputs": [],
   "source": [
    "X, y = read_train()\n",
    "X, y = SMOTE_data(X, y)"
   ]
  },
  {
   "cell_type": "code",
   "execution_count": 4,
   "metadata": {},
   "outputs": [
    {
     "data": {
      "text/plain": [
       "Counter({False: 65608, True: 43739})"
      ]
     },
     "execution_count": 4,
     "metadata": {},
     "output_type": "execute_result"
    }
   ],
   "source": [
    "from collections import Counter\n",
    "(counter := Counter(y))"
   ]
  },
  {
   "cell_type": "code",
   "execution_count": 5,
   "metadata": {},
   "outputs": [],
   "source": [
    "# As discover in the EDA, we will log transform all X for better distribution\n",
    "log_X = np.log(X + .001)"
   ]
  },
  {
   "cell_type": "code",
   "execution_count": 6,
   "metadata": {},
   "outputs": [],
   "source": [
    "# Transform data into Standard scale\n",
    "ss = StandardScaler()\n",
    "fit_X = ss.fit_transform(log_X)"
   ]
  },
  {
   "cell_type": "code",
   "execution_count": 7,
   "metadata": {},
   "outputs": [],
   "source": [
    "# \n",
    "xtrain, xtest, ytrain, ytest = train_test_split(fit_X, y, test_size=.3)"
   ]
  },
  {
   "cell_type": "markdown",
   "metadata": {},
   "source": [
    "### Models"
   ]
  },
  {
   "cell_type": "code",
   "execution_count": 8,
   "metadata": {},
   "outputs": [],
   "source": [
    "# Imports\n",
    "from sklearn.linear_model import LogisticRegression\n",
    "from sklearn.neighbors import KNeighborsClassifier\n",
    "from sklearn.ensemble import RandomForestClassifier\n",
    "from sklearn import svm\n",
    "\n",
    "rs = 93"
   ]
  },
  {
   "cell_type": "code",
   "execution_count": 12,
   "metadata": {},
   "outputs": [
    {
     "name": "stdout",
     "output_type": "stream",
     "text": [
      "Accuracy: 0.738515470202713\n",
      "ROC/AUC Score: 0.7082073542645551\n"
     ]
    }
   ],
   "source": [
    "# SVM\n",
    "svc = svm.SVC().fit(xtrain, ytrain)\n",
    "svc_pred = svc.predict(xtest)\n",
    "print(\"Accuracy:\", accuracy_score(ytest, svc_pred))\n",
    "print(\"ROC/AUC Score:\", roc_auc_score(ytest, svc_pred))"
   ]
  },
  {
   "cell_type": "code",
   "execution_count": 13,
   "metadata": {},
   "outputs": [],
   "source": [
    "# RandomForest\n",
    "rf = RandomForestClassifier(n_estimators=200).fit(xtrain, ytrain)\n",
    "rf_pred = rf.predict(xtest)\n",
    "print(\"Accuracy:\", accuracy_score(ytest, rf_pred))\n",
    "print(\"ROC/AUC Score:\", roc_auc_score(ytest, rf_pred))"
   ]
  },
  {
   "cell_type": "code",
   "execution_count": 10,
   "metadata": {},
   "outputs": [
    {
     "name": "stdout",
     "output_type": "stream",
     "text": [
      "Accuracy: 0.7387898186252095\n",
      "ROC/AUC Score: 0.7213182226084673\n"
     ]
    }
   ],
   "source": [
    "# KNN\n",
    "knn = KNeighborsClassifier(n_neighbors=5).fit(xtrain, ytrain)\n",
    "knn_pred = knn.predict(xtest)\n",
    "print(\"Accuracy:\", accuracy_score(ytest, knn_pred))\n",
    "print(\"ROC/AUC Score:\", roc_auc_score(ytest, knn_pred))"
   ]
  },
  {
   "cell_type": "code",
   "execution_count": 9,
   "metadata": {},
   "outputs": [
    {
     "name": "stdout",
     "output_type": "stream",
     "text": [
      "Accuracy: 0.7347050754458162\n",
      "ROC/AUC Score: 0.7064375084555259\n"
     ]
    }
   ],
   "source": [
    "# Logistic Regression\n",
    "lr = LogisticRegression(random_state=rs, max_iter=1000).fit(xtrain, ytrain)\n",
    "lr_pred = lr.predict(xtest)\n",
    "print(\"Accuracy:\", accuracy_score(ytest, lr_pred))\n",
    "print(\"ROC/AUC Score:\", roc_auc_score(ytest, lr_pred))"
   ]
  },
  {
   "cell_type": "markdown",
   "metadata": {},
   "source": [
    "### DefectNet"
   ]
  },
  {
   "cell_type": "code",
   "execution_count": null,
   "metadata": {},
   "outputs": [],
   "source": []
  }
 ],
 "metadata": {
  "kernelspec": {
   "display_name": "base",
   "language": "python",
   "name": "python3"
  },
  "language_info": {
   "codemirror_mode": {
    "name": "ipython",
    "version": 3
   },
   "file_extension": ".py",
   "mimetype": "text/x-python",
   "name": "python",
   "nbconvert_exporter": "python",
   "pygments_lexer": "ipython3",
   "version": "3.11.5"
  },
  "orig_nbformat": 4
 },
 "nbformat": 4,
 "nbformat_minor": 2
}

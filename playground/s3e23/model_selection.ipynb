{
 "cells": [
  {
   "cell_type": "markdown",
   "metadata": {},
   "source": [
    "# Binary Classification with a Software Defects Dataset\n",
    "Playground Series - Season 3, Episode 23\n",
    "https://www.kaggle.com/competitions/playground-series-s3e23/data"
   ]
  },
  {
   "cell_type": "code",
   "execution_count": 52,
   "metadata": {},
   "outputs": [],
   "source": [
    "# Libraries\n",
    "import numpy as np\n",
    "import pandas as pd\n",
    "\n",
    "from preprocessing import read_train, SMOTE_data, plot_dist\n",
    "\n",
    "from sklearn.preprocessing import StandardScaler\n",
    "from sklearn.model_selection import train_test_split\n",
    "from sklearn.metrics import roc_auc_score\n",
    "\n",
    "import torch\n",
    "import torch.nn as nn\n",
    "import torch.nn.functional as F\n",
    "from torch.utils.data import Dataset, DataLoader\n",
    "\n",
    "import matplotlib.pyplot as plt"
   ]
  },
  {
   "cell_type": "markdown",
   "metadata": {},
   "source": [
    "### Data"
   ]
  },
  {
   "cell_type": "code",
   "execution_count": 2,
   "metadata": {},
   "outputs": [],
   "source": [
    "X, y = read_train()\n",
    "X, y = SMOTE_data(X, y)"
   ]
  },
  {
   "cell_type": "code",
   "execution_count": 3,
   "metadata": {},
   "outputs": [
    {
     "data": {
      "text/plain": [
       "Counter({False: 59023, True: 39349})"
      ]
     },
     "execution_count": 3,
     "metadata": {},
     "output_type": "execute_result"
    }
   ],
   "source": [
    "from collections import Counter\n",
    "(counter := Counter(y))"
   ]
  },
  {
   "cell_type": "code",
   "execution_count": 4,
   "metadata": {},
   "outputs": [],
   "source": [
    "# As discover in the EDA, we will log transform all X for better distribution\n",
    "log_X = np.log(X + .001)"
   ]
  },
  {
   "cell_type": "code",
   "execution_count": 5,
   "metadata": {},
   "outputs": [],
   "source": [
    "# Transform data into Standard scale\n",
    "ss = StandardScaler()\n",
    "fit_X = ss.fit_transform(log_X)"
   ]
  },
  {
   "cell_type": "code",
   "execution_count": 6,
   "metadata": {},
   "outputs": [],
   "source": [
    "def transform_X(X):\n",
    "    ss = StandardScaler()\n",
    "    return ss.fit_transform(np.log(X + .001))"
   ]
  },
  {
   "cell_type": "code",
   "execution_count": 7,
   "metadata": {},
   "outputs": [],
   "source": [
    "# Since we already balanced out the classes\n",
    "xtrain, xtest, ytrain, ytest = train_test_split(fit_X, y, test_size=.3)"
   ]
  },
  {
   "cell_type": "markdown",
   "metadata": {},
   "source": [
    "### Network"
   ]
  },
  {
   "cell_type": "code",
   "execution_count": 33,
   "metadata": {},
   "outputs": [],
   "source": [
    "# Create dataset object\n",
    "class DefectDataset(Dataset):\n",
    "    def __init__(self, X, y):\n",
    "        self.X = torch.tensor(X, dtype=torch.float32)\n",
    "        self.y = torch.tensor(y.astype(int).values, dtype=torch.float32)\n",
    "\n",
    "    def __len__(self):\n",
    "        return len(self.y)\n",
    "\n",
    "    def __getitem__(self, idx):\n",
    "        return self.X[idx], self.y[idx]"
   ]
  },
  {
   "cell_type": "code",
   "execution_count": 34,
   "metadata": {},
   "outputs": [],
   "source": [
    "train_ds = DefectDataset(xtrain, ytrain)\n",
    "test_ds = DefectDataset(xtest, ytest)"
   ]
  },
  {
   "cell_type": "code",
   "execution_count": 35,
   "metadata": {},
   "outputs": [],
   "source": [
    "train_dl = DataLoader(train_ds, batch_size=64, shuffle=True)\n",
    "test_dl = DataLoader(test_ds, batch_size=64, shuffle=True)"
   ]
  },
  {
   "cell_type": "code",
   "execution_count": 11,
   "metadata": {},
   "outputs": [
    {
     "name": "stdout",
     "output_type": "stream",
     "text": [
      "Feature batch shape: torch.Size([64, 21])\n",
      "Labels batch shape: torch.Size([64])\n"
     ]
    }
   ],
   "source": [
    "# Check data\n",
    "train_features, train_labels = next(iter(train_dl))\n",
    "print(f\"Feature batch shape: {train_features.size()}\")\n",
    "print(f\"Labels batch shape: {train_labels.size()}\")"
   ]
  },
  {
   "cell_type": "code",
   "execution_count": 12,
   "metadata": {},
   "outputs": [
    {
     "data": {
      "text/plain": [
       "tensor([[ 0.1414,  0.4189,  0.5054,  ...,  0.3613,  0.3678,  0.4740],\n",
       "        [ 0.1744,  0.7338, -0.6652,  ...,  0.4013,  0.3387,  0.7587],\n",
       "        [-1.0033, -0.7835, -0.6652,  ...,  0.0494, -0.0502, -0.7185],\n",
       "        ...,\n",
       "        [-1.2184, -0.7835, -0.6652,  ...,  0.0320, -0.3052, -0.7185],\n",
       "        [-0.7448, -0.3398,  0.5054,  ...,  0.0816, -0.0171, -0.2497],\n",
       "        [-0.6708, -0.7835, -0.6652,  ...,  0.1732,  0.1498, -0.7185]])"
      ]
     },
     "execution_count": 12,
     "metadata": {},
     "output_type": "execute_result"
    }
   ],
   "source": [
    "train_features"
   ]
  },
  {
   "cell_type": "code",
   "execution_count": 13,
   "metadata": {},
   "outputs": [
    {
     "name": "stdout",
     "output_type": "stream",
     "text": [
      "Using cpu device\n"
     ]
    }
   ],
   "source": [
    "device = (\n",
    "    \"cuda\"\n",
    "    if torch.cuda.is_available()\n",
    "    else \"mps\"\n",
    "    if torch.backends.mps.is_available()\n",
    "    else \"cpu\"\n",
    ")\n",
    "print(f\"Using {device} device\")"
   ]
  },
  {
   "cell_type": "code",
   "execution_count": 36,
   "metadata": {},
   "outputs": [],
   "source": [
    "class DefectNetwork(nn.Module):\n",
    "    def __init__(self):\n",
    "        super().__init__()\n",
    "        self.input = nn.Linear(21, 64)\n",
    "        self.relu = nn.ReLU()\n",
    "        self.linear_tanh_stack = nn.Sequential(\n",
    "            nn.Linear(64, 128),\n",
    "            nn.Tanh(),\n",
    "            nn.Linear(128, 128),\n",
    "            nn.Tanh(),\n",
    "            nn.Linear(128, 16),\n",
    "            nn.Tanh()\n",
    "        )\n",
    "        self.output = nn.Linear(16, 1)\n",
    "        self.sigmoid = nn.Sigmoid()\n",
    "\n",
    "    def forward(self, x):\n",
    "        x = self.input(x)\n",
    "        x = self.relu(x)\n",
    "        x = self.linear_tanh_stack(x)\n",
    "        x = self.output(x)\n",
    "        logits = self.sigmoid(x)\n",
    "\n",
    "        return logits"
   ]
  },
  {
   "cell_type": "code",
   "execution_count": 37,
   "metadata": {},
   "outputs": [],
   "source": [
    "model = DefectNetwork()"
   ]
  },
  {
   "cell_type": "code",
   "execution_count": 38,
   "metadata": {},
   "outputs": [
    {
     "data": {
      "text/plain": [
       "tensor([[0.4719],\n",
       "        [0.4707],\n",
       "        [0.4769],\n",
       "        [0.4744],\n",
       "        [0.4793],\n",
       "        [0.5296],\n",
       "        [0.4771],\n",
       "        [0.4711],\n",
       "        [0.4655],\n",
       "        [0.4711],\n",
       "        [0.4691],\n",
       "        [0.4640],\n",
       "        [0.4616],\n",
       "        [0.4740],\n",
       "        [0.4733],\n",
       "        [0.4681],\n",
       "        [0.4709],\n",
       "        [0.4691],\n",
       "        [0.4808],\n",
       "        [0.4603],\n",
       "        [0.4704],\n",
       "        [0.4647],\n",
       "        [0.4768],\n",
       "        [0.4745],\n",
       "        [0.4580],\n",
       "        [0.4610],\n",
       "        [0.4812],\n",
       "        [0.4651],\n",
       "        [0.5285],\n",
       "        [0.4742],\n",
       "        [0.4737],\n",
       "        [0.5316],\n",
       "        [0.4670],\n",
       "        [0.4712],\n",
       "        [0.4680],\n",
       "        [0.4736],\n",
       "        [0.4758],\n",
       "        [0.5286],\n",
       "        [0.4777],\n",
       "        [0.5310],\n",
       "        [0.4737],\n",
       "        [0.4753],\n",
       "        [0.4716],\n",
       "        [0.4616],\n",
       "        [0.4681],\n",
       "        [0.4668],\n",
       "        [0.5284],\n",
       "        [0.4706],\n",
       "        [0.4796],\n",
       "        [0.5243],\n",
       "        [0.4617],\n",
       "        [0.4772],\n",
       "        [0.4697],\n",
       "        [0.5295],\n",
       "        [0.4811],\n",
       "        [0.4741],\n",
       "        [0.4665],\n",
       "        [0.5297],\n",
       "        [0.4718],\n",
       "        [0.4721],\n",
       "        [0.4758],\n",
       "        [0.4759],\n",
       "        [0.4758],\n",
       "        [0.4738]])"
      ]
     },
     "execution_count": 38,
     "metadata": {},
     "output_type": "execute_result"
    }
   ],
   "source": [
    "model(train_features).data"
   ]
  },
  {
   "cell_type": "markdown",
   "metadata": {},
   "source": [
    "### Training"
   ]
  },
  {
   "cell_type": "code",
   "execution_count": 39,
   "metadata": {},
   "outputs": [],
   "source": [
    "# Loss and batch size\n",
    "# Consider implement own loss function for better ROC performance\n",
    "loss_fn = nn.BCELoss()\n",
    "batch_size_train = 64"
   ]
  },
  {
   "cell_type": "code",
   "execution_count": 83,
   "metadata": {},
   "outputs": [],
   "source": [
    "def test(model, loader, roc=False):\n",
    "    \"\"\"Test a network model on the test data.\n",
    "    \n",
    "    model: a `nn.Module` object representing the neural network to test\n",
    "    loader: a `DataLoader` object containing the testing data, potentially in batches\n",
    "    \n",
    "    Returns a tuple (test_loss, accuracy), where test_loss is the average loss on the\n",
    "    test data, and accuracy is the accuracy rate (out of 100%) of the predictions.\n",
    "    \"\"\"\n",
    "    \n",
    "    # Put the network in evaluation mode\n",
    "    model.eval()\n",
    "    \n",
    "    test_loss = 0\n",
    "    roc_scores = []\n",
    "    \n",
    "    # don't track gradients during this calculation\n",
    "    with torch.no_grad():\n",
    "        for data, target in loader:\n",
    "            output = model(data)\n",
    "            target = target.unsqueeze(1)\n",
    "            \n",
    "            # calculate the loss on this batch\n",
    "            test_loss += loss_fn(output, target)\n",
    "            if roc:\n",
    "                pred = output.detach().numpy()\n",
    "                roc_scores.append(roc_auc_score(target, pred))\n",
    "\n",
    "    # get the overall loss across all batches\n",
    "    test_loss /= len(loader.dataset)\n",
    "    \n",
    "    return test_loss, np.mean(roc_scores) if roc else test_loss"
   ]
  },
  {
   "cell_type": "code",
   "execution_count": 84,
   "metadata": {},
   "outputs": [],
   "source": [
    "def train(model, optimizer, train_loader, test_loader, n_epochs=5, log_interval=50, verbose=False):\n",
    "    \"\"\"Train a network model with a particular optimizer.\n",
    "    \n",
    "    model: a `nn.Module` object representing the neural network to train\n",
    "    optimizer: a PyTorch optimizer, such as SGD\n",
    "    train_loader: a `DataLoader` object containing the training data, potentially in batches\n",
    "    test_loader: the same, but for the testing data\n",
    "    n_epochs: number of epochs of training to run\n",
    "    log_interval: after how many batches should record our progress?\n",
    "    verbose: print the progress after each log_interval steps?\n",
    "    \n",
    "    Returns a tuple (train_losses, counter, test_losses). train_losses is a list of \n",
    "    losses after every log_interval training steps; train_counter is a list giving the number\n",
    "    of training observations seen by the training process by each of those steps; test_losses\n",
    "    gives the test-set loss before each epoch and after the final epoch; test_counter gives\n",
    "    the number of training observations seen at each epoch.\n",
    "    \"\"\"\n",
    "    \n",
    "    # Storage\n",
    "    train_losses = []\n",
    "    test_losses = []\n",
    "    train_counter = []\n",
    "    test_counter = []\n",
    "    \n",
    "    samples_seen = 0\n",
    "    \n",
    "    for epoch in range(n_epochs):\n",
    "        # test at the beginning of each epoch\n",
    "        test_loss = test(model, test_loader)\n",
    "        test_losses.append(test_loss)\n",
    "        test_counter.append(samples_seen)\n",
    "        \n",
    "        model.train() # put the network in training mode\n",
    "\n",
    "        for batch_idx, (data, target) in enumerate(train_loader):\n",
    "            # Reset all gradients\n",
    "            optimizer.zero_grad()\n",
    "    \n",
    "            # Obtain the model's predictions with the data\n",
    "            predictions = model(data)\n",
    "            target = target.unsqueeze(1)\n",
    "    \n",
    "            # Get the loss, using the known Ys\n",
    "            loss = loss_fn(predictions, target)\n",
    "    \n",
    "            # Calculate the gradients with backpropagation\n",
    "            loss.backward()\n",
    "    \n",
    "            # Perform one gradient descent step\n",
    "            optimizer.step()\n",
    "\n",
    "            # Count how much data we've seen\n",
    "            samples_seen += batch_size_train\n",
    "            \n",
    "            # Every log_interval steps, print out the progress\n",
    "            if batch_idx % log_interval == 0:\n",
    "                if verbose:\n",
    "                    print('Train Epoch: {} [{}/{} ({:.0f}%)]\\tLoss: {:.6f}'.format(\n",
    "                        epoch + 1, batch_idx * len(data), len(train_loader.dataset),\n",
    "                        100.0 * batch_idx / len(train_loader), loss.item()))\n",
    "                \n",
    "                train_losses.append(loss.item())\n",
    "                train_counter.append(samples_seen)\n",
    "                \n",
    "\n",
    "    # test after the final epoch\n",
    "    test_loss, test_roc_score = test(model, test_loader, roc=True)\n",
    "    test_losses.append(test_loss)\n",
    "    test_counter.append(samples_seen)\n",
    "                \n",
    "    return train_losses, train_counter, test_losses, test_counter, test_roc_score"
   ]
  },
  {
   "cell_type": "code",
   "execution_count": 50,
   "metadata": {},
   "outputs": [],
   "source": [
    "# Optimizer\n",
    "optimizer = torch.optim.Adam(model.parameters(), lr=0.001)"
   ]
  },
  {
   "cell_type": "code",
   "execution_count": 85,
   "metadata": {},
   "outputs": [],
   "source": [
    "target = train_labels.detach().numpy()\n",
    "pred = model(train_features).detach().numpy()"
   ]
  },
  {
   "cell_type": "code",
   "execution_count": 75,
   "metadata": {},
   "outputs": [
    {
     "data": {
      "text/plain": [
       "0.8227272727272728"
      ]
     },
     "execution_count": 75,
     "metadata": {},
     "output_type": "execute_result"
    }
   ],
   "source": [
    "roc_auc_score([int(pre) for pre in pred >= .5], target)"
   ]
  },
  {
   "cell_type": "code",
   "execution_count": 86,
   "metadata": {},
   "outputs": [
    {
     "name": "stdout",
     "output_type": "stream",
     "text": [
      "Train Epoch: 1 [0/68860 (0%)]\tLoss: 0.465743\n",
      "Train Epoch: 1 [3200/68860 (5%)]\tLoss: 0.594630\n",
      "Train Epoch: 1 [6400/68860 (9%)]\tLoss: 0.523879\n",
      "Train Epoch: 1 [9600/68860 (14%)]\tLoss: 0.545121\n",
      "Train Epoch: 1 [12800/68860 (19%)]\tLoss: 0.655089\n",
      "Train Epoch: 1 [16000/68860 (23%)]\tLoss: 0.441925\n",
      "Train Epoch: 1 [19200/68860 (28%)]\tLoss: 0.555573\n",
      "Train Epoch: 1 [22400/68860 (33%)]\tLoss: 0.578710\n",
      "Train Epoch: 1 [25600/68860 (37%)]\tLoss: 0.537760\n",
      "Train Epoch: 1 [28800/68860 (42%)]\tLoss: 0.456978\n",
      "Train Epoch: 1 [32000/68860 (46%)]\tLoss: 0.588563\n",
      "Train Epoch: 1 [35200/68860 (51%)]\tLoss: 0.546258\n",
      "Train Epoch: 1 [38400/68860 (56%)]\tLoss: 0.438518\n",
      "Train Epoch: 1 [41600/68860 (60%)]\tLoss: 0.498471\n",
      "Train Epoch: 1 [44800/68860 (65%)]\tLoss: 0.448678\n",
      "Train Epoch: 1 [48000/68860 (70%)]\tLoss: 0.576747\n",
      "Train Epoch: 1 [51200/68860 (74%)]\tLoss: 0.597457\n",
      "Train Epoch: 1 [54400/68860 (79%)]\tLoss: 0.655599\n",
      "Train Epoch: 1 [57600/68860 (84%)]\tLoss: 0.613943\n",
      "Train Epoch: 1 [60800/68860 (88%)]\tLoss: 0.573816\n",
      "Train Epoch: 1 [64000/68860 (93%)]\tLoss: 0.677214\n",
      "Train Epoch: 1 [67200/68860 (98%)]\tLoss: 0.512448\n",
      "Train Epoch: 2 [0/68860 (0%)]\tLoss: 0.554150\n",
      "Train Epoch: 2 [3200/68860 (5%)]\tLoss: 0.538884\n",
      "Train Epoch: 2 [6400/68860 (9%)]\tLoss: 0.522394\n",
      "Train Epoch: 2 [9600/68860 (14%)]\tLoss: 0.485033\n",
      "Train Epoch: 2 [12800/68860 (19%)]\tLoss: 0.563470\n",
      "Train Epoch: 2 [16000/68860 (23%)]\tLoss: 0.511325\n",
      "Train Epoch: 2 [19200/68860 (28%)]\tLoss: 0.497240\n",
      "Train Epoch: 2 [22400/68860 (33%)]\tLoss: 0.492902\n",
      "Train Epoch: 2 [25600/68860 (37%)]\tLoss: 0.576258\n",
      "Train Epoch: 2 [28800/68860 (42%)]\tLoss: 0.501183\n",
      "Train Epoch: 2 [32000/68860 (46%)]\tLoss: 0.527360\n",
      "Train Epoch: 2 [35200/68860 (51%)]\tLoss: 0.654124\n",
      "Train Epoch: 2 [38400/68860 (56%)]\tLoss: 0.531335\n",
      "Train Epoch: 2 [41600/68860 (60%)]\tLoss: 0.594869\n",
      "Train Epoch: 2 [44800/68860 (65%)]\tLoss: 0.653691\n",
      "Train Epoch: 2 [48000/68860 (70%)]\tLoss: 0.476281\n",
      "Train Epoch: 2 [51200/68860 (74%)]\tLoss: 0.550442\n",
      "Train Epoch: 2 [54400/68860 (79%)]\tLoss: 0.638680\n",
      "Train Epoch: 2 [57600/68860 (84%)]\tLoss: 0.545492\n",
      "Train Epoch: 2 [60800/68860 (88%)]\tLoss: 0.615122\n",
      "Train Epoch: 2 [64000/68860 (93%)]\tLoss: 0.563056\n",
      "Train Epoch: 2 [67200/68860 (98%)]\tLoss: 0.511116\n",
      "Train Epoch: 3 [0/68860 (0%)]\tLoss: 0.469738\n",
      "Train Epoch: 3 [3200/68860 (5%)]\tLoss: 0.539376\n",
      "Train Epoch: 3 [6400/68860 (9%)]\tLoss: 0.585159\n",
      "Train Epoch: 3 [9600/68860 (14%)]\tLoss: 0.557996\n",
      "Train Epoch: 3 [12800/68860 (19%)]\tLoss: 0.528243\n",
      "Train Epoch: 3 [16000/68860 (23%)]\tLoss: 0.638181\n",
      "Train Epoch: 3 [19200/68860 (28%)]\tLoss: 0.592883\n",
      "Train Epoch: 3 [22400/68860 (33%)]\tLoss: 0.435009\n",
      "Train Epoch: 3 [25600/68860 (37%)]\tLoss: 0.495472\n",
      "Train Epoch: 3 [28800/68860 (42%)]\tLoss: 0.576149\n",
      "Train Epoch: 3 [32000/68860 (46%)]\tLoss: 0.525384\n",
      "Train Epoch: 3 [35200/68860 (51%)]\tLoss: 0.596550\n",
      "Train Epoch: 3 [38400/68860 (56%)]\tLoss: 0.556670\n",
      "Train Epoch: 3 [41600/68860 (60%)]\tLoss: 0.564075\n",
      "Train Epoch: 3 [44800/68860 (65%)]\tLoss: 0.550448\n",
      "Train Epoch: 3 [48000/68860 (70%)]\tLoss: 0.470073\n",
      "Train Epoch: 3 [51200/68860 (74%)]\tLoss: 0.489177\n",
      "Train Epoch: 3 [54400/68860 (79%)]\tLoss: 0.558700\n",
      "Train Epoch: 3 [57600/68860 (84%)]\tLoss: 0.560517\n",
      "Train Epoch: 3 [60800/68860 (88%)]\tLoss: 0.640893\n",
      "Train Epoch: 3 [64000/68860 (93%)]\tLoss: 0.585990\n",
      "Train Epoch: 3 [67200/68860 (98%)]\tLoss: 0.457061\n",
      "Train Epoch: 4 [0/68860 (0%)]\tLoss: 0.491966\n",
      "Train Epoch: 4 [3200/68860 (5%)]\tLoss: 0.601293\n",
      "Train Epoch: 4 [6400/68860 (9%)]\tLoss: 0.512434\n",
      "Train Epoch: 4 [9600/68860 (14%)]\tLoss: 0.582507\n",
      "Train Epoch: 4 [12800/68860 (19%)]\tLoss: 0.606114\n",
      "Train Epoch: 4 [16000/68860 (23%)]\tLoss: 0.548224\n",
      "Train Epoch: 4 [19200/68860 (28%)]\tLoss: 0.503453\n",
      "Train Epoch: 4 [22400/68860 (33%)]\tLoss: 0.490017\n",
      "Train Epoch: 4 [25600/68860 (37%)]\tLoss: 0.541473\n",
      "Train Epoch: 4 [28800/68860 (42%)]\tLoss: 0.619959\n",
      "Train Epoch: 4 [32000/68860 (46%)]\tLoss: 0.569490\n",
      "Train Epoch: 4 [35200/68860 (51%)]\tLoss: 0.684562\n",
      "Train Epoch: 4 [38400/68860 (56%)]\tLoss: 0.421989\n",
      "Train Epoch: 4 [41600/68860 (60%)]\tLoss: 0.632554\n",
      "Train Epoch: 4 [44800/68860 (65%)]\tLoss: 0.497395\n",
      "Train Epoch: 4 [48000/68860 (70%)]\tLoss: 0.582803\n",
      "Train Epoch: 4 [51200/68860 (74%)]\tLoss: 0.598531\n",
      "Train Epoch: 4 [54400/68860 (79%)]\tLoss: 0.646512\n",
      "Train Epoch: 4 [57600/68860 (84%)]\tLoss: 0.605123\n",
      "Train Epoch: 4 [60800/68860 (88%)]\tLoss: 0.509602\n",
      "Train Epoch: 4 [64000/68860 (93%)]\tLoss: 0.527722\n",
      "Train Epoch: 4 [67200/68860 (98%)]\tLoss: 0.523691\n",
      "Train Epoch: 5 [0/68860 (0%)]\tLoss: 0.473321\n",
      "Train Epoch: 5 [3200/68860 (5%)]\tLoss: 0.484328\n",
      "Train Epoch: 5 [6400/68860 (9%)]\tLoss: 0.468140\n",
      "Train Epoch: 5 [9600/68860 (14%)]\tLoss: 0.474394\n",
      "Train Epoch: 5 [12800/68860 (19%)]\tLoss: 0.592672\n",
      "Train Epoch: 5 [16000/68860 (23%)]\tLoss: 0.525283\n",
      "Train Epoch: 5 [19200/68860 (28%)]\tLoss: 0.701521\n",
      "Train Epoch: 5 [22400/68860 (33%)]\tLoss: 0.567681\n",
      "Train Epoch: 5 [25600/68860 (37%)]\tLoss: 0.480752\n",
      "Train Epoch: 5 [28800/68860 (42%)]\tLoss: 0.526599\n",
      "Train Epoch: 5 [32000/68860 (46%)]\tLoss: 0.576048\n",
      "Train Epoch: 5 [35200/68860 (51%)]\tLoss: 0.647319\n",
      "Train Epoch: 5 [38400/68860 (56%)]\tLoss: 0.634985\n",
      "Train Epoch: 5 [41600/68860 (60%)]\tLoss: 0.558361\n",
      "Train Epoch: 5 [44800/68860 (65%)]\tLoss: 0.607656\n",
      "Train Epoch: 5 [48000/68860 (70%)]\tLoss: 0.522518\n",
      "Train Epoch: 5 [51200/68860 (74%)]\tLoss: 0.526207\n",
      "Train Epoch: 5 [54400/68860 (79%)]\tLoss: 0.560318\n",
      "Train Epoch: 5 [57600/68860 (84%)]\tLoss: 0.475782\n",
      "Train Epoch: 5 [60800/68860 (88%)]\tLoss: 0.524551\n",
      "Train Epoch: 5 [64000/68860 (93%)]\tLoss: 0.724360\n",
      "Train Epoch: 5 [67200/68860 (98%)]\tLoss: 0.626170\n",
      "Train Epoch: 6 [0/68860 (0%)]\tLoss: 0.612547\n",
      "Train Epoch: 6 [3200/68860 (5%)]\tLoss: 0.543785\n",
      "Train Epoch: 6 [6400/68860 (9%)]\tLoss: 0.454506\n",
      "Train Epoch: 6 [9600/68860 (14%)]\tLoss: 0.566471\n",
      "Train Epoch: 6 [12800/68860 (19%)]\tLoss: 0.554502\n",
      "Train Epoch: 6 [16000/68860 (23%)]\tLoss: 0.529931\n",
      "Train Epoch: 6 [19200/68860 (28%)]\tLoss: 0.576115\n",
      "Train Epoch: 6 [22400/68860 (33%)]\tLoss: 0.603976\n",
      "Train Epoch: 6 [25600/68860 (37%)]\tLoss: 0.486585\n",
      "Train Epoch: 6 [28800/68860 (42%)]\tLoss: 0.532924\n",
      "Train Epoch: 6 [32000/68860 (46%)]\tLoss: 0.520937\n",
      "Train Epoch: 6 [35200/68860 (51%)]\tLoss: 0.563094\n",
      "Train Epoch: 6 [38400/68860 (56%)]\tLoss: 0.572068\n",
      "Train Epoch: 6 [41600/68860 (60%)]\tLoss: 0.473925\n",
      "Train Epoch: 6 [44800/68860 (65%)]\tLoss: 0.521127\n",
      "Train Epoch: 6 [48000/68860 (70%)]\tLoss: 0.569339\n",
      "Train Epoch: 6 [51200/68860 (74%)]\tLoss: 0.532445\n",
      "Train Epoch: 6 [54400/68860 (79%)]\tLoss: 0.504289\n",
      "Train Epoch: 6 [57600/68860 (84%)]\tLoss: 0.583646\n",
      "Train Epoch: 6 [60800/68860 (88%)]\tLoss: 0.565059\n",
      "Train Epoch: 6 [64000/68860 (93%)]\tLoss: 0.550316\n",
      "Train Epoch: 6 [67200/68860 (98%)]\tLoss: 0.571039\n",
      "Train Epoch: 7 [0/68860 (0%)]\tLoss: 0.557577\n",
      "Train Epoch: 7 [3200/68860 (5%)]\tLoss: 0.667984\n",
      "Train Epoch: 7 [6400/68860 (9%)]\tLoss: 0.476626\n",
      "Train Epoch: 7 [9600/68860 (14%)]\tLoss: 0.512183\n",
      "Train Epoch: 7 [12800/68860 (19%)]\tLoss: 0.440146\n",
      "Train Epoch: 7 [16000/68860 (23%)]\tLoss: 0.583190\n",
      "Train Epoch: 7 [19200/68860 (28%)]\tLoss: 0.514315\n",
      "Train Epoch: 7 [22400/68860 (33%)]\tLoss: 0.582605\n",
      "Train Epoch: 7 [25600/68860 (37%)]\tLoss: 0.590143\n",
      "Train Epoch: 7 [28800/68860 (42%)]\tLoss: 0.562211\n",
      "Train Epoch: 7 [32000/68860 (46%)]\tLoss: 0.600298\n",
      "Train Epoch: 7 [35200/68860 (51%)]\tLoss: 0.532625\n",
      "Train Epoch: 7 [38400/68860 (56%)]\tLoss: 0.535309\n",
      "Train Epoch: 7 [41600/68860 (60%)]\tLoss: 0.544682\n",
      "Train Epoch: 7 [44800/68860 (65%)]\tLoss: 0.556814\n",
      "Train Epoch: 7 [48000/68860 (70%)]\tLoss: 0.573845\n",
      "Train Epoch: 7 [51200/68860 (74%)]\tLoss: 0.590972\n",
      "Train Epoch: 7 [54400/68860 (79%)]\tLoss: 0.444209\n",
      "Train Epoch: 7 [57600/68860 (84%)]\tLoss: 0.540494\n",
      "Train Epoch: 7 [60800/68860 (88%)]\tLoss: 0.646321\n",
      "Train Epoch: 7 [64000/68860 (93%)]\tLoss: 0.450453\n",
      "Train Epoch: 7 [67200/68860 (98%)]\tLoss: 0.626819\n",
      "Train Epoch: 8 [0/68860 (0%)]\tLoss: 0.532914\n",
      "Train Epoch: 8 [3200/68860 (5%)]\tLoss: 0.555043\n",
      "Train Epoch: 8 [6400/68860 (9%)]\tLoss: 0.636055\n",
      "Train Epoch: 8 [9600/68860 (14%)]\tLoss: 0.488327\n",
      "Train Epoch: 8 [12800/68860 (19%)]\tLoss: 0.657999\n",
      "Train Epoch: 8 [16000/68860 (23%)]\tLoss: 0.425899\n",
      "Train Epoch: 8 [19200/68860 (28%)]\tLoss: 0.505853\n",
      "Train Epoch: 8 [22400/68860 (33%)]\tLoss: 0.589670\n",
      "Train Epoch: 8 [25600/68860 (37%)]\tLoss: 0.585024\n",
      "Train Epoch: 8 [28800/68860 (42%)]\tLoss: 0.617085\n",
      "Train Epoch: 8 [32000/68860 (46%)]\tLoss: 0.629255\n",
      "Train Epoch: 8 [35200/68860 (51%)]\tLoss: 0.596238\n",
      "Train Epoch: 8 [38400/68860 (56%)]\tLoss: 0.434857\n",
      "Train Epoch: 8 [41600/68860 (60%)]\tLoss: 0.605503\n",
      "Train Epoch: 8 [44800/68860 (65%)]\tLoss: 0.478506\n",
      "Train Epoch: 8 [48000/68860 (70%)]\tLoss: 0.448085\n",
      "Train Epoch: 8 [51200/68860 (74%)]\tLoss: 0.505322\n",
      "Train Epoch: 8 [54400/68860 (79%)]\tLoss: 0.571838\n",
      "Train Epoch: 8 [57600/68860 (84%)]\tLoss: 0.497347\n",
      "Train Epoch: 8 [60800/68860 (88%)]\tLoss: 0.476035\n",
      "Train Epoch: 8 [64000/68860 (93%)]\tLoss: 0.538647\n",
      "Train Epoch: 8 [67200/68860 (98%)]\tLoss: 0.496497\n",
      "Train Epoch: 9 [0/68860 (0%)]\tLoss: 0.464064\n",
      "Train Epoch: 9 [3200/68860 (5%)]\tLoss: 0.472037\n",
      "Train Epoch: 9 [6400/68860 (9%)]\tLoss: 0.528875\n",
      "Train Epoch: 9 [9600/68860 (14%)]\tLoss: 0.438736\n",
      "Train Epoch: 9 [12800/68860 (19%)]\tLoss: 0.595218\n",
      "Train Epoch: 9 [16000/68860 (23%)]\tLoss: 0.425196\n",
      "Train Epoch: 9 [19200/68860 (28%)]\tLoss: 0.607317\n",
      "Train Epoch: 9 [22400/68860 (33%)]\tLoss: 0.483223\n",
      "Train Epoch: 9 [25600/68860 (37%)]\tLoss: 0.554175\n",
      "Train Epoch: 9 [28800/68860 (42%)]\tLoss: 0.500762\n",
      "Train Epoch: 9 [32000/68860 (46%)]\tLoss: 0.547852\n",
      "Train Epoch: 9 [35200/68860 (51%)]\tLoss: 0.539784\n",
      "Train Epoch: 9 [38400/68860 (56%)]\tLoss: 0.526876\n",
      "Train Epoch: 9 [41600/68860 (60%)]\tLoss: 0.575597\n",
      "Train Epoch: 9 [44800/68860 (65%)]\tLoss: 0.513606\n",
      "Train Epoch: 9 [48000/68860 (70%)]\tLoss: 0.545225\n",
      "Train Epoch: 9 [51200/68860 (74%)]\tLoss: 0.535885\n",
      "Train Epoch: 9 [54400/68860 (79%)]\tLoss: 0.606302\n",
      "Train Epoch: 9 [57600/68860 (84%)]\tLoss: 0.594974\n",
      "Train Epoch: 9 [60800/68860 (88%)]\tLoss: 0.565744\n",
      "Train Epoch: 9 [64000/68860 (93%)]\tLoss: 0.574739\n",
      "Train Epoch: 9 [67200/68860 (98%)]\tLoss: 0.499044\n",
      "Train Epoch: 10 [0/68860 (0%)]\tLoss: 0.564821\n",
      "Train Epoch: 10 [3200/68860 (5%)]\tLoss: 0.577704\n",
      "Train Epoch: 10 [6400/68860 (9%)]\tLoss: 0.538801\n",
      "Train Epoch: 10 [9600/68860 (14%)]\tLoss: 0.512121\n",
      "Train Epoch: 10 [12800/68860 (19%)]\tLoss: 0.522948\n",
      "Train Epoch: 10 [16000/68860 (23%)]\tLoss: 0.559206\n",
      "Train Epoch: 10 [19200/68860 (28%)]\tLoss: 0.542836\n",
      "Train Epoch: 10 [22400/68860 (33%)]\tLoss: 0.533220\n",
      "Train Epoch: 10 [25600/68860 (37%)]\tLoss: 0.495780\n",
      "Train Epoch: 10 [28800/68860 (42%)]\tLoss: 0.588451\n",
      "Train Epoch: 10 [32000/68860 (46%)]\tLoss: 0.514923\n",
      "Train Epoch: 10 [35200/68860 (51%)]\tLoss: 0.546742\n",
      "Train Epoch: 10 [38400/68860 (56%)]\tLoss: 0.545108\n",
      "Train Epoch: 10 [41600/68860 (60%)]\tLoss: 0.404837\n",
      "Train Epoch: 10 [44800/68860 (65%)]\tLoss: 0.433487\n",
      "Train Epoch: 10 [48000/68860 (70%)]\tLoss: 0.534367\n",
      "Train Epoch: 10 [51200/68860 (74%)]\tLoss: 0.519754\n",
      "Train Epoch: 10 [54400/68860 (79%)]\tLoss: 0.545826\n",
      "Train Epoch: 10 [57600/68860 (84%)]\tLoss: 0.501846\n",
      "Train Epoch: 10 [60800/68860 (88%)]\tLoss: 0.601720\n",
      "Train Epoch: 10 [64000/68860 (93%)]\tLoss: 0.552507\n",
      "Train Epoch: 10 [67200/68860 (98%)]\tLoss: 0.586422\n"
     ]
    }
   ],
   "source": [
    "train_losses, train_counter, test_losses, test_counter, test_accuracies = train(\n",
    "        model, optimizer, train_dl, test_dl, n_epochs=10, verbose=True\n",
    "    )"
   ]
  },
  {
   "cell_type": "code",
   "execution_count": 47,
   "metadata": {},
   "outputs": [
    {
     "data": {
      "text/plain": [
       "Counter({False: 41229, True: 27631})"
      ]
     },
     "execution_count": 47,
     "metadata": {},
     "output_type": "execute_result"
    }
   ],
   "source": [
    "counter = Counter(ytrain)\n",
    "counter"
   ]
  },
  {
   "cell_type": "code",
   "execution_count": 53,
   "metadata": {},
   "outputs": [
    {
     "name": "stdout",
     "output_type": "stream",
     "text": [
      "Final test loss: tensor(0.0085)\n",
      "Final test accuracies: tensor(60.2941)\n"
     ]
    },
    {
     "data": {
      "image/png": "[encoded data removed]",
      "text/plain": [
       "<Figure size 640x480 with 1 Axes>"
      ]
     },
     "metadata": {},
     "output_type": "display_data"
    }
   ],
   "source": [
    "print(\"Final test loss:\", test_losses[-1])\n",
    "print(\"Final test accuracies:\", test_accuracies[-1])\n",
    "\n",
    "plt.plot(train_counter, train_losses, color=\"blue\")\n",
    "plt.scatter(test_counter, test_losses, color=\"red\")\n",
    "plt.legend([\"Training loss\", \"Test loss\"], loc=\"upper right\")\n",
    "plt.xlabel(\"Number of training samples seen\")\n",
    "plt.ylabel(\"Cross Entropy loss\")\n",
    "plt.show()"
   ]
  }
 ],
 "metadata": {
  "kernelspec": {
   "display_name": "base",
   "language": "python",
   "name": "python3"
  },
  "language_info": {
   "codemirror_mode": {
    "name": "ipython",
    "version": 3
   },
   "file_extension": ".py",
   "mimetype": "text/x-python",
   "name": "python",
   "nbconvert_exporter": "python",
   "pygments_lexer": "ipython3",
   "version": "3.11.5"
  },
  "orig_nbformat": 4
 },
 "nbformat": 4,
 "nbformat_minor": 2
}
